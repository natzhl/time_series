{
  "cells": [
    {
      "cell_type": "markdown",
      "metadata": {
        "toc": true,
        "id": "IwFjylV6Lzfq"
      },
      "source": [
        "<h1>Содержание<span class=\"tocSkip\"></span></h1>\n",
        "<div class=\"toc\"><ul class=\"toc-item\"><li><span><a href=\"#Подготовка\" data-toc-modified-id=\"Подготовка-1\"><span class=\"toc-item-num\">1&nbsp;&nbsp;</span>Подготовка</a></span></li><li><span><a href=\"#Анализ\" data-toc-modified-id=\"Анализ-2\"><span class=\"toc-item-num\">2&nbsp;&nbsp;</span>Анализ</a></span></li><li><span><a href=\"#Обучение\" data-toc-modified-id=\"Обучение-3\"><span class=\"toc-item-num\">3&nbsp;&nbsp;</span>Обучение</a></span><ul class=\"toc-item\"><li><span><a href=\"#Модель-Linear-Regressor\" data-toc-modified-id=\"Модель-Linear-Regressor-3.1\"><span class=\"toc-item-num\">3.1&nbsp;&nbsp;</span>Модель Linear Regressor</a></span></li><li><span><a href=\"#Модель-Random-Forest\" data-toc-modified-id=\"Модель-Random-Forest-3.2\"><span class=\"toc-item-num\">3.2&nbsp;&nbsp;</span>Модель Random Forest</a></span></li><li><span><a href=\"#Модель-Light-GBM-Regressor\" data-toc-modified-id=\"Модель-Light-GBM-Regressor-3.3\"><span class=\"toc-item-num\">3.3&nbsp;&nbsp;</span>Модель Light GBM Regressor</a></span></li><li><span><a href=\"#Выводы:\" data-toc-modified-id=\"Выводы:-3.4\"><span class=\"toc-item-num\">3.4&nbsp;&nbsp;</span>Выводы:</a></span></li></ul></li><li><span><a href=\"#Тестирование\" data-toc-modified-id=\"Тестирование-4\"><span class=\"toc-item-num\">4&nbsp;&nbsp;</span>Тестирование</a></span></li><li><span><a href=\"#Чек-лист-проверки\" data-toc-modified-id=\"Чек-лист-проверки-5\"><span class=\"toc-item-num\">5&nbsp;&nbsp;</span>Чек-лист проверки</a></span></li></ul></div>"
      ]
    },
    {
      "cell_type": "markdown",
      "metadata": {
        "id": "-LrAI4oSLzfs"
      },
      "source": [
        "#  Прогнозирование заказов такси"
      ]
    },
    {
      "cell_type": "markdown",
      "metadata": {
        "id": "jGulBMD1Lzft"
      },
      "source": [
        "Компания «Чётенькое такси» собрала исторические данные о заказах такси в аэропортах. Чтобы привлекать больше водителей в период пиковой нагрузки, нужно спрогнозировать количество заказов такси на следующий час. Постройте модель для такого предсказания.\n",
        "\n",
        "Значение метрики *RMSE* на тестовой выборке должно быть не больше 48.\n",
        "\n",
        "Вам нужно:\n",
        "\n",
        "1. Загрузить данные и выполнить их ресемплирование по одному часу.\n",
        "2. Проанализировать данные.\n",
        "3. Обучить разные модели с различными гиперпараметрами. Сделать тестовую выборку размером 10% от исходных данных.\n",
        "4. Проверить данные на тестовой выборке и сделать выводы.\n",
        "\n",
        "\n",
        "Данные лежат в файле `taxi.csv`. Количество заказов находится в столбце `num_orders` (от англ. *number of orders*, «число заказов»)."
      ]
    },
    {
      "cell_type": "markdown",
      "metadata": {
        "id": "nKd7x5YVLzfv"
      },
      "source": [
        "## Подготовка"
      ]
    },
    {
      "cell_type": "code",
      "execution_count": null,
      "metadata": {
        "id": "W1KnqG9ELzfw"
      },
      "outputs": [],
      "source": [
        "import pandas as pd\n",
        "import numpy as np\n",
        "import seaborn as sns\n",
        "import matplotlib.pyplot as plt\n",
        "import time\n",
        "\n",
        "from statsmodels.tsa.seasonal import seasonal_decompose\n",
        "from sklearn.model_selection import train_test_split\n",
        "from sklearn.metrics import mean_squared_error\n",
        "from sklearn.model_selection import GridSearchCV\n",
        "from sklearn.model_selection import cross_val_score\n",
        "from sklearn.metrics import make_scorer\n",
        "from sklearn.model_selection import TimeSeriesSplit\n",
        "\n",
        "from sklearn.preprocessing import StandardScaler\n",
        "from sklearn.linear_model import LinearRegression\n",
        "from sklearn.ensemble import RandomForestRegressor\n",
        "from lightgbm import LGBMRegressor"
      ]
    },
    {
      "cell_type": "code",
      "execution_count": null,
      "metadata": {
        "scrolled": true,
        "id": "4DeaPhnVLzfz",
        "outputId": "f96a252e-b720-44ac-c9e1-d24492057a7e"
      },
      "outputs": [
        {
          "data": {
            "text/html": [
              "<div>\n",
              "<style scoped>\n",
              "    .dataframe tbody tr th:only-of-type {\n",
              "        vertical-align: middle;\n",
              "    }\n",
              "\n",
              "    .dataframe tbody tr th {\n",
              "        vertical-align: top;\n",
              "    }\n",
              "\n",
              "    .dataframe thead th {\n",
              "        text-align: right;\n",
              "    }\n",
              "</style>\n",
              "<table border=\"1\" class=\"dataframe\">\n",
              "  <thead>\n",
              "    <tr style=\"text-align: right;\">\n",
              "      <th></th>\n",
              "      <th>num_orders</th>\n",
              "    </tr>\n",
              "    <tr>\n",
              "      <th>datetime</th>\n",
              "      <th></th>\n",
              "    </tr>\n",
              "  </thead>\n",
              "  <tbody>\n",
              "    <tr>\n",
              "      <th>2018-03-01 00:00:00</th>\n",
              "      <td>9</td>\n",
              "    </tr>\n",
              "    <tr>\n",
              "      <th>2018-03-01 00:10:00</th>\n",
              "      <td>14</td>\n",
              "    </tr>\n",
              "    <tr>\n",
              "      <th>2018-03-01 00:20:00</th>\n",
              "      <td>28</td>\n",
              "    </tr>\n",
              "    <tr>\n",
              "      <th>2018-03-01 00:30:00</th>\n",
              "      <td>20</td>\n",
              "    </tr>\n",
              "    <tr>\n",
              "      <th>2018-03-01 00:40:00</th>\n",
              "      <td>32</td>\n",
              "    </tr>\n",
              "    <tr>\n",
              "      <th>...</th>\n",
              "      <td>...</td>\n",
              "    </tr>\n",
              "    <tr>\n",
              "      <th>2018-08-31 23:10:00</th>\n",
              "      <td>32</td>\n",
              "    </tr>\n",
              "    <tr>\n",
              "      <th>2018-08-31 23:20:00</th>\n",
              "      <td>24</td>\n",
              "    </tr>\n",
              "    <tr>\n",
              "      <th>2018-08-31 23:30:00</th>\n",
              "      <td>27</td>\n",
              "    </tr>\n",
              "    <tr>\n",
              "      <th>2018-08-31 23:40:00</th>\n",
              "      <td>39</td>\n",
              "    </tr>\n",
              "    <tr>\n",
              "      <th>2018-08-31 23:50:00</th>\n",
              "      <td>53</td>\n",
              "    </tr>\n",
              "  </tbody>\n",
              "</table>\n",
              "<p>26496 rows × 1 columns</p>\n",
              "</div>"
            ],
            "text/plain": [
              "                     num_orders\n",
              "datetime                       \n",
              "2018-03-01 00:00:00           9\n",
              "2018-03-01 00:10:00          14\n",
              "2018-03-01 00:20:00          28\n",
              "2018-03-01 00:30:00          20\n",
              "2018-03-01 00:40:00          32\n",
              "...                         ...\n",
              "2018-08-31 23:10:00          32\n",
              "2018-08-31 23:20:00          24\n",
              "2018-08-31 23:30:00          27\n",
              "2018-08-31 23:40:00          39\n",
              "2018-08-31 23:50:00          53\n",
              "\n",
              "[26496 rows x 1 columns]"
            ]
          },
          "execution_count": 2,
          "metadata": {},
          "output_type": "execute_result"
        }
      ],
      "source": [
        "df = pd.read_csv('/datasets/taxi.csv', index_col=[0], parse_dates=[0])\n",
        "df"
      ]
    },
    {
      "cell_type": "code",
      "execution_count": null,
      "metadata": {
        "id": "dQHxRHNnLzf1",
        "outputId": "bb9fd4be-09d9-43b6-9325-73c9a1a8f7fd"
      },
      "outputs": [
        {
          "name": "stdout",
          "output_type": "stream",
          "text": [
            "<class 'pandas.core.frame.DataFrame'>\n",
            "DatetimeIndex: 26496 entries, 2018-03-01 00:00:00 to 2018-08-31 23:50:00\n",
            "Data columns (total 1 columns):\n",
            " #   Column      Non-Null Count  Dtype\n",
            "---  ------      --------------  -----\n",
            " 0   num_orders  26496 non-null  int64\n",
            "dtypes: int64(1)\n",
            "memory usage: 414.0 KB\n",
            "None\n",
            "\n",
            "         num_orders\n",
            "count  26496.000000\n",
            "mean      14.070463\n",
            "std        9.211330\n",
            "min        0.000000\n",
            "25%        8.000000\n",
            "50%       13.000000\n",
            "75%       19.000000\n",
            "max      119.000000\n",
            "\n",
            "num_orders    0\n",
            "dtype: int64\n",
            "\n",
            "26415\n"
          ]
        }
      ],
      "source": [
        "print(df.info())\n",
        "print()\n",
        "print(df.describe())\n",
        "print()\n",
        "print(df.isnull().sum())\n",
        "print()\n",
        "print(df.duplicated().sum())"
      ]
    },
    {
      "cell_type": "code",
      "execution_count": null,
      "metadata": {
        "id": "VzRY4XZdLzf2",
        "outputId": "6e92fa74-7db4-41d6-b8e9-dfd2ac42f4f0"
      },
      "outputs": [
        {
          "data": {
            "text/plain": [
              "True"
            ]
          },
          "execution_count": 4,
          "metadata": {},
          "output_type": "execute_result"
        }
      ],
      "source": [
        "df.sort_index(inplace=True)\n",
        "df.index.is_monotonic"
      ]
    },
    {
      "cell_type": "markdown",
      "metadata": {
        "id": "Mu5if8IFLzf3"
      },
      "source": [
        "Дубликаты отсутствуют, пропуски отсутствуют, данные упорядочены по индексу и готовы к дальнейшему анализу."
      ]
    },
    {
      "cell_type": "markdown",
      "metadata": {
        "id": "ODjLaPklLzf4"
      },
      "source": [
        "## Анализ"
      ]
    },
    {
      "cell_type": "markdown",
      "metadata": {
        "id": "8PxbG53lLzf5"
      },
      "source": [
        "Сначала выполним ресемплирование данных по одному часу:"
      ]
    },
    {
      "cell_type": "code",
      "execution_count": null,
      "metadata": {
        "id": "Joydm0IlLzf6",
        "outputId": "9f797d39-56cb-4f57-c259-569735132cd8"
      },
      "outputs": [
        {
          "data": {
            "text/plain": [
              "<AxesSubplot:xlabel='datetime'>"
            ]
          },
          "execution_count": 5,
          "metadata": {},
          "output_type": "execute_result"
        },
        {
          "data": {
            "image/png": "[encoded data removed]",
            "text/plain": [
              "<Figure size 432x288 with 1 Axes>"
            ]
          },
          "metadata": {
            "needs_background": "light"
          },
          "output_type": "display_data"
        }
      ],
      "source": [
        "df.sort_index(inplace=True)\n",
        "df = df.resample('1H').sum()\n",
        "df.plot()"
      ]
    },
    {
      "cell_type": "markdown",
      "metadata": {
        "id": "6KiP3TTOLzf7"
      },
      "source": [
        "Теперь построим график скользящего среднего."
      ]
    },
    {
      "cell_type": "code",
      "execution_count": null,
      "metadata": {
        "id": "J-8dIbEfLzf8",
        "outputId": "1228c67e-65d5-4bd0-b538-f9574565fc0f"
      },
      "outputs": [
        {
          "data": {
            "text/plain": [
              "<AxesSubplot:title={'center':'Скользящее среднее'}, xlabel='datetime'>"
            ]
          },
          "execution_count": 6,
          "metadata": {},
          "output_type": "execute_result"
        },
        {
          "data": {
            "image/png": "[encoded data removed]",
            "text/plain": [
              "<Figure size 432x288 with 1 Axes>"
            ]
          },
          "metadata": {
            "needs_background": "light"
          },
          "output_type": "display_data"
        }
      ],
      "source": [
        "df.rolling(10).mean().plot(title='Скользящее среднее', color='green')"
      ]
    },
    {
      "cell_type": "code",
      "execution_count": null,
      "metadata": {
        "id": "54YcESoGLzf9",
        "outputId": "b0c476a9-8c0c-4835-b5ad-97e31495c573"
      },
      "outputs": [
        {
          "data": {
            "text/plain": [
              "<AxesSubplot:title={'center':'Тренд'}, xlabel='datetime'>"
            ]
          },
          "execution_count": 7,
          "metadata": {},
          "output_type": "execute_result"
        },
        {
          "data": {
            "image/png": "[encoded data removed]",
            "text/plain": [
              "<Figure size 432x288 with 1 Axes>"
            ]
          },
          "metadata": {
            "needs_background": "light"
          },
          "output_type": "display_data"
        }
      ],
      "source": [
        "decomposed = seasonal_decompose(df)\n",
        "decomposed.trend.plot(title='Тренд', color='red')"
      ]
    },
    {
      "cell_type": "code",
      "execution_count": null,
      "metadata": {
        "id": "3oJ3iWXKLzf-",
        "outputId": "df2c7525-5c81-446e-9ab5-6704e4594fab"
      },
      "outputs": [
        {
          "data": {
            "text/plain": [
              "<AxesSubplot:title={'center':'Сезонность'}, xlabel='datetime'>"
            ]
          },
          "execution_count": 8,
          "metadata": {},
          "output_type": "execute_result"
        },
        {
          "data": {
            "image/png": "[encoded data removed]",
            "text/plain": [
              "<Figure size 432x288 with 1 Axes>"
            ]
          },
          "metadata": {
            "needs_background": "light"
          },
          "output_type": "display_data"
        }
      ],
      "source": [
        "decomposed.seasonal.tail(24*7).plot(title='Сезонность', color='purple')"
      ]
    },
    {
      "cell_type": "code",
      "execution_count": null,
      "metadata": {
        "id": "jFNqsLl3Lzf-",
        "outputId": "bdaeb214-5969-46b3-8b66-854a2ed61bc7"
      },
      "outputs": [
        {
          "data": {
            "text/plain": [
              "<AxesSubplot:title={'center':'Остатки'}, xlabel='datetime'>"
            ]
          },
          "execution_count": 9,
          "metadata": {},
          "output_type": "execute_result"
        },
        {
          "data": {
            "image/png": "[encoded data removed]",
            "text/plain": [
              "<Figure size 432x288 with 1 Axes>"
            ]
          },
          "metadata": {
            "needs_background": "light"
          },
          "output_type": "display_data"
        }
      ],
      "source": [
        "decomposed.resid.plot(title='Остатки', color='orange')"
      ]
    },
    {
      "cell_type": "markdown",
      "metadata": {
        "id": "HBipN_u9Lzf_"
      },
      "source": [
        "По распределению на графиках можно наблюдать восходящий тренд, есть сезонность в течение дня."
      ]
    },
    {
      "cell_type": "markdown",
      "metadata": {
        "id": "vUfDkF_NLzgA"
      },
      "source": [
        "## Обучение"
      ]
    },
    {
      "cell_type": "markdown",
      "metadata": {
        "id": "Vr3W6TFCLzgB"
      },
      "source": [
        "Теперь обучим разные модели с различными гиперпараметрами. \n",
        "Сделать тестовую выборку размером 10% от исходных данных."
      ]
    },
    {
      "cell_type": "code",
      "execution_count": null,
      "metadata": {
        "id": "TlrzBtLWLzgB"
      },
      "outputs": [],
      "source": [
        "df = df.resample('1H').sum()\n",
        "# напишем функцию, которая создает признаки, чтобы прибавить к датасету календарные признаки\n",
        "def make_features(data, max_lag, rolling_mean_size):\n",
        "    data['hour'] = data.index.hour\n",
        "    data['day'] = data.index.day\n",
        "    data['dayofweek'] = data.index.dayofweek\n",
        "    \n",
        "    for lag in range(1, max_lag + 1):\n",
        "        data['lag_{}'.format(lag)] = data['num_orders'].shift(lag)\n",
        "\n",
        "    data['rolling_mean'] = data['num_orders'].shift().rolling(rolling_mean_size).mean()\n",
        "\n",
        "make_features(df, 10, 10)"
      ]
    },
    {
      "cell_type": "code",
      "execution_count": null,
      "metadata": {
        "id": "ft4hAgqBLzgC",
        "outputId": "4fb2c3d9-ce69-4d56-b423-4e32af68e17c"
      },
      "outputs": [
        {
          "data": {
            "text/html": [
              "<div>\n",
              "<style scoped>\n",
              "    .dataframe tbody tr th:only-of-type {\n",
              "        vertical-align: middle;\n",
              "    }\n",
              "\n",
              "    .dataframe tbody tr th {\n",
              "        vertical-align: top;\n",
              "    }\n",
              "\n",
              "    .dataframe thead th {\n",
              "        text-align: right;\n",
              "    }\n",
              "</style>\n",
              "<table border=\"1\" class=\"dataframe\">\n",
              "  <thead>\n",
              "    <tr style=\"text-align: right;\">\n",
              "      <th></th>\n",
              "      <th>num_orders</th>\n",
              "      <th>hour</th>\n",
              "      <th>day</th>\n",
              "      <th>dayofweek</th>\n",
              "      <th>lag_1</th>\n",
              "      <th>lag_2</th>\n",
              "      <th>lag_3</th>\n",
              "      <th>lag_4</th>\n",
              "      <th>lag_5</th>\n",
              "      <th>lag_6</th>\n",
              "      <th>lag_7</th>\n",
              "      <th>lag_8</th>\n",
              "      <th>lag_9</th>\n",
              "      <th>lag_10</th>\n",
              "      <th>rolling_mean</th>\n",
              "    </tr>\n",
              "    <tr>\n",
              "      <th>datetime</th>\n",
              "      <th></th>\n",
              "      <th></th>\n",
              "      <th></th>\n",
              "      <th></th>\n",
              "      <th></th>\n",
              "      <th></th>\n",
              "      <th></th>\n",
              "      <th></th>\n",
              "      <th></th>\n",
              "      <th></th>\n",
              "      <th></th>\n",
              "      <th></th>\n",
              "      <th></th>\n",
              "      <th></th>\n",
              "      <th></th>\n",
              "    </tr>\n",
              "  </thead>\n",
              "  <tbody>\n",
              "    <tr>\n",
              "      <th>2018-03-01 00:00:00</th>\n",
              "      <td>124</td>\n",
              "      <td>0</td>\n",
              "      <td>1</td>\n",
              "      <td>3</td>\n",
              "      <td>NaN</td>\n",
              "      <td>NaN</td>\n",
              "      <td>NaN</td>\n",
              "      <td>NaN</td>\n",
              "      <td>NaN</td>\n",
              "      <td>NaN</td>\n",
              "      <td>NaN</td>\n",
              "      <td>NaN</td>\n",
              "      <td>NaN</td>\n",
              "      <td>NaN</td>\n",
              "      <td>NaN</td>\n",
              "    </tr>\n",
              "    <tr>\n",
              "      <th>2018-03-01 01:00:00</th>\n",
              "      <td>85</td>\n",
              "      <td>1</td>\n",
              "      <td>1</td>\n",
              "      <td>3</td>\n",
              "      <td>124.0</td>\n",
              "      <td>NaN</td>\n",
              "      <td>NaN</td>\n",
              "      <td>NaN</td>\n",
              "      <td>NaN</td>\n",
              "      <td>NaN</td>\n",
              "      <td>NaN</td>\n",
              "      <td>NaN</td>\n",
              "      <td>NaN</td>\n",
              "      <td>NaN</td>\n",
              "      <td>NaN</td>\n",
              "    </tr>\n",
              "    <tr>\n",
              "      <th>2018-03-01 02:00:00</th>\n",
              "      <td>71</td>\n",
              "      <td>2</td>\n",
              "      <td>1</td>\n",
              "      <td>3</td>\n",
              "      <td>85.0</td>\n",
              "      <td>124.0</td>\n",
              "      <td>NaN</td>\n",
              "      <td>NaN</td>\n",
              "      <td>NaN</td>\n",
              "      <td>NaN</td>\n",
              "      <td>NaN</td>\n",
              "      <td>NaN</td>\n",
              "      <td>NaN</td>\n",
              "      <td>NaN</td>\n",
              "      <td>NaN</td>\n",
              "    </tr>\n",
              "    <tr>\n",
              "      <th>2018-03-01 03:00:00</th>\n",
              "      <td>66</td>\n",
              "      <td>3</td>\n",
              "      <td>1</td>\n",
              "      <td>3</td>\n",
              "      <td>71.0</td>\n",
              "      <td>85.0</td>\n",
              "      <td>124.0</td>\n",
              "      <td>NaN</td>\n",
              "      <td>NaN</td>\n",
              "      <td>NaN</td>\n",
              "      <td>NaN</td>\n",
              "      <td>NaN</td>\n",
              "      <td>NaN</td>\n",
              "      <td>NaN</td>\n",
              "      <td>NaN</td>\n",
              "    </tr>\n",
              "    <tr>\n",
              "      <th>2018-03-01 04:00:00</th>\n",
              "      <td>43</td>\n",
              "      <td>4</td>\n",
              "      <td>1</td>\n",
              "      <td>3</td>\n",
              "      <td>66.0</td>\n",
              "      <td>71.0</td>\n",
              "      <td>85.0</td>\n",
              "      <td>124.0</td>\n",
              "      <td>NaN</td>\n",
              "      <td>NaN</td>\n",
              "      <td>NaN</td>\n",
              "      <td>NaN</td>\n",
              "      <td>NaN</td>\n",
              "      <td>NaN</td>\n",
              "      <td>NaN</td>\n",
              "    </tr>\n",
              "    <tr>\n",
              "      <th>...</th>\n",
              "      <td>...</td>\n",
              "      <td>...</td>\n",
              "      <td>...</td>\n",
              "      <td>...</td>\n",
              "      <td>...</td>\n",
              "      <td>...</td>\n",
              "      <td>...</td>\n",
              "      <td>...</td>\n",
              "      <td>...</td>\n",
              "      <td>...</td>\n",
              "      <td>...</td>\n",
              "      <td>...</td>\n",
              "      <td>...</td>\n",
              "      <td>...</td>\n",
              "      <td>...</td>\n",
              "    </tr>\n",
              "    <tr>\n",
              "      <th>2018-08-31 19:00:00</th>\n",
              "      <td>136</td>\n",
              "      <td>19</td>\n",
              "      <td>31</td>\n",
              "      <td>4</td>\n",
              "      <td>207.0</td>\n",
              "      <td>217.0</td>\n",
              "      <td>197.0</td>\n",
              "      <td>116.0</td>\n",
              "      <td>133.0</td>\n",
              "      <td>166.0</td>\n",
              "      <td>136.0</td>\n",
              "      <td>167.0</td>\n",
              "      <td>191.0</td>\n",
              "      <td>203.0</td>\n",
              "      <td>173.3</td>\n",
              "    </tr>\n",
              "    <tr>\n",
              "      <th>2018-08-31 20:00:00</th>\n",
              "      <td>154</td>\n",
              "      <td>20</td>\n",
              "      <td>31</td>\n",
              "      <td>4</td>\n",
              "      <td>136.0</td>\n",
              "      <td>207.0</td>\n",
              "      <td>217.0</td>\n",
              "      <td>197.0</td>\n",
              "      <td>116.0</td>\n",
              "      <td>133.0</td>\n",
              "      <td>166.0</td>\n",
              "      <td>136.0</td>\n",
              "      <td>167.0</td>\n",
              "      <td>191.0</td>\n",
              "      <td>166.6</td>\n",
              "    </tr>\n",
              "    <tr>\n",
              "      <th>2018-08-31 21:00:00</th>\n",
              "      <td>159</td>\n",
              "      <td>21</td>\n",
              "      <td>31</td>\n",
              "      <td>4</td>\n",
              "      <td>154.0</td>\n",
              "      <td>136.0</td>\n",
              "      <td>207.0</td>\n",
              "      <td>217.0</td>\n",
              "      <td>197.0</td>\n",
              "      <td>116.0</td>\n",
              "      <td>133.0</td>\n",
              "      <td>166.0</td>\n",
              "      <td>136.0</td>\n",
              "      <td>167.0</td>\n",
              "      <td>162.9</td>\n",
              "    </tr>\n",
              "    <tr>\n",
              "      <th>2018-08-31 22:00:00</th>\n",
              "      <td>223</td>\n",
              "      <td>22</td>\n",
              "      <td>31</td>\n",
              "      <td>4</td>\n",
              "      <td>159.0</td>\n",
              "      <td>154.0</td>\n",
              "      <td>136.0</td>\n",
              "      <td>207.0</td>\n",
              "      <td>217.0</td>\n",
              "      <td>197.0</td>\n",
              "      <td>116.0</td>\n",
              "      <td>133.0</td>\n",
              "      <td>166.0</td>\n",
              "      <td>136.0</td>\n",
              "      <td>162.1</td>\n",
              "    </tr>\n",
              "    <tr>\n",
              "      <th>2018-08-31 23:00:00</th>\n",
              "      <td>205</td>\n",
              "      <td>23</td>\n",
              "      <td>31</td>\n",
              "      <td>4</td>\n",
              "      <td>223.0</td>\n",
              "      <td>159.0</td>\n",
              "      <td>154.0</td>\n",
              "      <td>136.0</td>\n",
              "      <td>207.0</td>\n",
              "      <td>217.0</td>\n",
              "      <td>197.0</td>\n",
              "      <td>116.0</td>\n",
              "      <td>133.0</td>\n",
              "      <td>166.0</td>\n",
              "      <td>170.8</td>\n",
              "    </tr>\n",
              "  </tbody>\n",
              "</table>\n",
              "<p>4416 rows × 15 columns</p>\n",
              "</div>"
            ],
            "text/plain": [
              "                     num_orders  hour  day  dayofweek  lag_1  lag_2  lag_3  \\\n",
              "datetime                                                                     \n",
              "2018-03-01 00:00:00         124     0    1          3    NaN    NaN    NaN   \n",
              "2018-03-01 01:00:00          85     1    1          3  124.0    NaN    NaN   \n",
              "2018-03-01 02:00:00          71     2    1          3   85.0  124.0    NaN   \n",
              "2018-03-01 03:00:00          66     3    1          3   71.0   85.0  124.0   \n",
              "2018-03-01 04:00:00          43     4    1          3   66.0   71.0   85.0   \n",
              "...                         ...   ...  ...        ...    ...    ...    ...   \n",
              "2018-08-31 19:00:00         136    19   31          4  207.0  217.0  197.0   \n",
              "2018-08-31 20:00:00         154    20   31          4  136.0  207.0  217.0   \n",
              "2018-08-31 21:00:00         159    21   31          4  154.0  136.0  207.0   \n",
              "2018-08-31 22:00:00         223    22   31          4  159.0  154.0  136.0   \n",
              "2018-08-31 23:00:00         205    23   31          4  223.0  159.0  154.0   \n",
              "\n",
              "                     lag_4  lag_5  lag_6  lag_7  lag_8  lag_9  lag_10  \\\n",
              "datetime                                                                \n",
              "2018-03-01 00:00:00    NaN    NaN    NaN    NaN    NaN    NaN     NaN   \n",
              "2018-03-01 01:00:00    NaN    NaN    NaN    NaN    NaN    NaN     NaN   \n",
              "2018-03-01 02:00:00    NaN    NaN    NaN    NaN    NaN    NaN     NaN   \n",
              "2018-03-01 03:00:00    NaN    NaN    NaN    NaN    NaN    NaN     NaN   \n",
              "2018-03-01 04:00:00  124.0    NaN    NaN    NaN    NaN    NaN     NaN   \n",
              "...                    ...    ...    ...    ...    ...    ...     ...   \n",
              "2018-08-31 19:00:00  116.0  133.0  166.0  136.0  167.0  191.0   203.0   \n",
              "2018-08-31 20:00:00  197.0  116.0  133.0  166.0  136.0  167.0   191.0   \n",
              "2018-08-31 21:00:00  217.0  197.0  116.0  133.0  166.0  136.0   167.0   \n",
              "2018-08-31 22:00:00  207.0  217.0  197.0  116.0  133.0  166.0   136.0   \n",
              "2018-08-31 23:00:00  136.0  207.0  217.0  197.0  116.0  133.0   166.0   \n",
              "\n",
              "                     rolling_mean  \n",
              "datetime                           \n",
              "2018-03-01 00:00:00           NaN  \n",
              "2018-03-01 01:00:00           NaN  \n",
              "2018-03-01 02:00:00           NaN  \n",
              "2018-03-01 03:00:00           NaN  \n",
              "2018-03-01 04:00:00           NaN  \n",
              "...                           ...  \n",
              "2018-08-31 19:00:00         173.3  \n",
              "2018-08-31 20:00:00         166.6  \n",
              "2018-08-31 21:00:00         162.9  \n",
              "2018-08-31 22:00:00         162.1  \n",
              "2018-08-31 23:00:00         170.8  \n",
              "\n",
              "[4416 rows x 15 columns]"
            ]
          },
          "execution_count": 11,
          "metadata": {},
          "output_type": "execute_result"
        }
      ],
      "source": [
        "df"
      ]
    },
    {
      "cell_type": "code",
      "execution_count": null,
      "metadata": {
        "id": "Lex51ut4LzgC"
      },
      "outputs": [],
      "source": [
        "# разделим данные на тренировочные и  10% тестовых\n",
        "train, test = train_test_split(df, shuffle=False, test_size=0.1)\n",
        "train = train.dropna()"
      ]
    },
    {
      "cell_type": "code",
      "execution_count": null,
      "metadata": {
        "id": "CwzOuSD9LzgD"
      },
      "outputs": [],
      "source": [
        "# выделим признаки\n",
        "features = train.drop('num_orders', axis = 1)\n",
        "target = train['num_orders']\n",
        "features_test = test.drop('num_orders', axis = 1)\n",
        "target_test = test['num_orders']"
      ]
    },
    {
      "cell_type": "code",
      "execution_count": null,
      "metadata": {
        "id": "6bc88HfcLzgD",
        "outputId": "14efc7e5-163a-4b0d-e154-9adbe4857bcb"
      },
      "outputs": [
        {
          "name": "stdout",
          "output_type": "stream",
          "text": [
            "Обучающие данные: 3964\n",
            "Тренировочные: 442\n"
          ]
        }
      ],
      "source": [
        "# проверим все ли данные корректно разделились\n",
        "print(f'Обучающие данные: {features.shape[0]}\\nТренировочные: {features_test.shape[0]}')"
      ]
    },
    {
      "cell_type": "code",
      "execution_count": null,
      "metadata": {
        "id": "fM1NCcZpLzgE"
      },
      "outputs": [],
      "source": [
        "# напишем функцию, которая возвращает RMSE\n",
        "def RMSE(target, predict):\n",
        "    \n",
        "    RMSE = mean_squared_error(target, predict) ** 0.5\n",
        "    \n",
        "    return RMSE"
      ]
    },
    {
      "cell_type": "code",
      "execution_count": null,
      "metadata": {
        "id": "tAHlaTl7LzgE"
      },
      "outputs": [],
      "source": [
        "# сделаем параметр из функции\n",
        "rmse_score = make_scorer(RMSE, greater_is_better=False) "
      ]
    },
    {
      "cell_type": "markdown",
      "metadata": {
        "id": "ZXw2XYWYLzgF"
      },
      "source": [
        "### Модель Linear Regressor"
      ]
    },
    {
      "cell_type": "markdown",
      "metadata": {
        "id": "3L-Ov8D-LzgF"
      },
      "source": [
        "С помощью кросс-валидации и заранее подготовленного параметра посчитаем RMSE линейной регрессии на обучающей выборке."
      ]
    },
    {
      "cell_type": "code",
      "execution_count": null,
      "metadata": {
        "id": "34g0PGfgLzgF"
      },
      "outputs": [],
      "source": [
        "tscv = TimeSeriesSplit()"
      ]
    },
    {
      "cell_type": "code",
      "execution_count": null,
      "metadata": {
        "id": "LNlnxX3NLzgG",
        "outputId": "20f01c50-3e3a-43e7-8495-8b0545e465f3"
      },
      "outputs": [
        {
          "name": "stdout",
          "output_type": "stream",
          "text": [
            "RMSE на обучающей выборке: -32.592618530319555\n"
          ]
        }
      ],
      "source": [
        "lr = LinearRegression()\n",
        "lr.fit(features, target)\n",
        "scores = cross_val_score(lr, features, target, scoring=rmse_score, cv=tscv)\n",
        "print(\"RMSE на обучающей выборке:\", scores.mean())"
      ]
    },
    {
      "cell_type": "markdown",
      "metadata": {
        "id": "b7F4u14MLzgI"
      },
      "source": [
        "### Модель Random Forest"
      ]
    },
    {
      "cell_type": "code",
      "execution_count": null,
      "metadata": {
        "id": "ufCuYxwyLzgI"
      },
      "outputs": [],
      "source": [
        "rf = RandomForestRegressor()"
      ]
    },
    {
      "cell_type": "code",
      "execution_count": null,
      "metadata": {
        "scrolled": true,
        "id": "GsXLVXncLzgJ",
        "outputId": "872c1434-3044-4797-ba9a-c065d52bba91"
      },
      "outputs": [
        {
          "data": {
            "text/plain": [
              "GridSearchCV(cv=TimeSeriesSplit(gap=0, max_train_size=None, n_splits=5, test_size=None),\n",
              "             estimator=RandomForestRegressor(),\n",
              "             param_grid={'max_depth': range(2, 21, 2),\n",
              "                         'n_estimators': range(10, 101, 10)},\n",
              "             scoring=make_scorer(RMSE, greater_is_better=False))"
            ]
          },
          "execution_count": 20,
          "metadata": {},
          "output_type": "execute_result"
        }
      ],
      "source": [
        "# подберем параметры\n",
        "parameters_grid = {'max_depth': range(2, 21, 2),\n",
        "          'n_estimators': range(10, 101, 10)}\n",
        "\n",
        "grid_rf = GridSearchCV(rf, param_grid=parameters_grid, scoring=rmse_score, cv=tscv)\n",
        "grid_rf.fit(features, target)"
      ]
    },
    {
      "cell_type": "code",
      "execution_count": null,
      "metadata": {
        "id": "rv0JDvtNLzgK",
        "outputId": "bfa49d7e-936d-4aa7-b4c6-ba91dc0c7e05"
      },
      "outputs": [
        {
          "data": {
            "text/plain": [
              "{'max_depth': 20, 'n_estimators': 80}"
            ]
          },
          "execution_count": 21,
          "metadata": {},
          "output_type": "execute_result"
        }
      ],
      "source": [
        "grid_rf.best_params_"
      ]
    },
    {
      "cell_type": "code",
      "execution_count": null,
      "metadata": {
        "scrolled": true,
        "id": "tGpqX0i-LzgK",
        "outputId": "4615006f-e64d-4c23-f082-929a03f493d1"
      },
      "outputs": [
        {
          "name": "stdout",
          "output_type": "stream",
          "text": [
            "RMSE на обучающей выборке: -25.579291084313013\n"
          ]
        }
      ],
      "source": [
        "print(\"RMSE на обучающей выборке:\", grid_rf.best_score_)"
      ]
    },
    {
      "cell_type": "markdown",
      "metadata": {
        "id": "52fHaJf7LzgN"
      },
      "source": [
        "RMSE является наилучшим среди всех моделей."
      ]
    },
    {
      "cell_type": "markdown",
      "metadata": {
        "id": "VFapcfngLzgO"
      },
      "source": [
        "### Модель Light GBM Regressor"
      ]
    },
    {
      "cell_type": "code",
      "execution_count": null,
      "metadata": {
        "id": "8dJXnerBLzgO"
      },
      "outputs": [],
      "source": [
        "lgbm = LGBMRegressor()"
      ]
    },
    {
      "cell_type": "code",
      "execution_count": null,
      "metadata": {
        "id": "aE43HmYBLzgP",
        "outputId": "f473d5f2-a0ef-41b0-9bcf-ab9dd8ed9875"
      },
      "outputs": [
        {
          "data": {
            "text/plain": [
              "GridSearchCV(cv=TimeSeriesSplit(gap=0, max_train_size=None, n_splits=5, test_size=None),\n",
              "             estimator=LGBMRegressor(),\n",
              "             param_grid={'learning_rate': [0.05, 0.1, 0.2],\n",
              "                         'max_depth': [10, 20, 30]},\n",
              "             scoring=make_scorer(RMSE, greater_is_better=False))"
            ]
          },
          "execution_count": 24,
          "metadata": {},
          "output_type": "execute_result"
        }
      ],
      "source": [
        "# подберем параметры\n",
        "params = {'max_depth': [10, 20, 30],\n",
        "          'learning_rate': [0.05, 0.1, 0.2]}\n",
        "\n",
        "grid_lgb = GridSearchCV(lgbm, params, cv=tscv, scoring=rmse_score)\n",
        "grid_lgb.fit(features, target)"
      ]
    },
    {
      "cell_type": "code",
      "execution_count": null,
      "metadata": {
        "id": "YVVN8dOxLzgP",
        "outputId": "194808d6-ae3a-461f-83f6-5911ab50a3b4"
      },
      "outputs": [
        {
          "data": {
            "text/plain": [
              "{'learning_rate': 0.05, 'max_depth': 30}"
            ]
          },
          "execution_count": 25,
          "metadata": {},
          "output_type": "execute_result"
        }
      ],
      "source": [
        "grid_lgb.best_params_"
      ]
    },
    {
      "cell_type": "code",
      "execution_count": null,
      "metadata": {
        "id": "VjF-6IKnLzgQ",
        "outputId": "81a7918c-5538-47a2-b383-d7e0172568b0"
      },
      "outputs": [
        {
          "name": "stdout",
          "output_type": "stream",
          "text": [
            "RMSE на обучающей выборке: -25.905500317130183\n"
          ]
        }
      ],
      "source": [
        "print(\"RMSE на обучающей выборке:\", grid_lgb.best_score_)"
      ]
    },
    {
      "cell_type": "markdown",
      "metadata": {
        "id": "BXHv1muGLzgQ"
      },
      "source": [
        "### Выводы:\n",
        "Хороший показатель RMSE получился у модели **Random Forest**, поэтому дальше тестировать будем именно ее."
      ]
    },
    {
      "cell_type": "markdown",
      "metadata": {
        "id": "qAel2aymLzgS"
      },
      "source": [
        "## Тестирование"
      ]
    },
    {
      "cell_type": "code",
      "execution_count": null,
      "metadata": {
        "id": "ac8zKqXwLzgS",
        "outputId": "afd21075-8e8d-4a89-fabf-520c9c6f3e87"
      },
      "outputs": [
        {
          "name": "stdout",
          "output_type": "stream",
          "text": [
            "Время предсказания = 0.0142 секунд\n",
            "-----------------------------------------------\n",
            "RMSE = 44.88429787114984\n"
          ]
        }
      ],
      "source": [
        "start = time.time()\n",
        "predictions_test = grid_rf.predict(features_test)\n",
        "print(f'Время предсказания = {(time.time() - start):.4f} секунд')\n",
        "\n",
        "print('-----------------------------------------------')\n",
        "print('RMSE =', RMSE(target_test, predictions_test))"
      ]
    },
    {
      "cell_type": "markdown",
      "metadata": {
        "id": "9EDybUBOLzgT"
      },
      "source": [
        "По сравнению с RMSE на тренировочных данных, на тестовых показатель сильно ухудшился, но все еще находится ниже порогового значения (не больше 48), поэтому можно заключить, что модель корректно работает и показывает результат."
      ]
    }
  ],
  "metadata": {
    "ExecuteTimeLog": [
      {
        "duration": 51,
        "start_time": "2023-03-15T13:09:21.573Z"
      },
      {
        "duration": 366,
        "start_time": "2023-03-15T13:09:41.395Z"
      },
      {
        "duration": 100,
        "start_time": "2023-03-15T13:09:41.763Z"
      },
      {
        "duration": 38,
        "start_time": "2023-03-15T13:10:23.952Z"
      },
      {
        "duration": 5,
        "start_time": "2023-03-15T13:14:45.879Z"
      },
      {
        "duration": 35,
        "start_time": "2023-03-15T13:15:19.018Z"
      },
      {
        "duration": 408,
        "start_time": "2023-03-15T13:19:27.018Z"
      },
      {
        "duration": 20,
        "start_time": "2023-03-15T13:19:31.198Z"
      },
      {
        "duration": 16,
        "start_time": "2023-03-15T13:20:29.285Z"
      },
      {
        "duration": 625,
        "start_time": "2023-03-15T13:20:51.376Z"
      },
      {
        "duration": 47,
        "start_time": "2023-03-15T13:20:52.003Z"
      },
      {
        "duration": 34,
        "start_time": "2023-03-15T13:20:52.051Z"
      },
      {
        "duration": 7,
        "start_time": "2023-03-15T13:20:52.087Z"
      },
      {
        "duration": 89,
        "start_time": "2023-03-15T13:20:52.096Z"
      },
      {
        "duration": 504,
        "start_time": "2023-03-15T13:22:10.558Z"
      },
      {
        "duration": 228,
        "start_time": "2023-03-15T13:22:57.268Z"
      },
      {
        "duration": 186,
        "start_time": "2023-03-15T13:23:00.117Z"
      },
      {
        "duration": 224,
        "start_time": "2023-03-15T13:23:06.479Z"
      },
      {
        "duration": 39,
        "start_time": "2023-03-15T13:24:12.902Z"
      },
      {
        "duration": 17,
        "start_time": "2023-03-15T13:25:59.731Z"
      },
      {
        "duration": 11,
        "start_time": "2023-03-15T13:26:32.173Z"
      },
      {
        "duration": 1151,
        "start_time": "2023-03-15T13:32:28.753Z"
      },
      {
        "duration": 49,
        "start_time": "2023-03-15T13:32:29.906Z"
      },
      {
        "duration": 28,
        "start_time": "2023-03-15T13:32:29.957Z"
      },
      {
        "duration": 4,
        "start_time": "2023-03-15T13:32:29.987Z"
      },
      {
        "duration": 280,
        "start_time": "2023-03-15T13:32:29.992Z"
      },
      {
        "duration": 116,
        "start_time": "2023-03-15T13:32:30.273Z"
      },
      {
        "duration": 913,
        "start_time": "2023-03-15T13:33:53.616Z"
      },
      {
        "duration": 4,
        "start_time": "2023-03-15T13:36:50.203Z"
      },
      {
        "duration": 226,
        "start_time": "2023-03-15T13:36:51.103Z"
      },
      {
        "duration": 755,
        "start_time": "2023-03-15T13:36:53.604Z"
      },
      {
        "duration": 12,
        "start_time": "2023-03-15T13:37:01.103Z"
      },
      {
        "duration": 48,
        "start_time": "2023-03-15T13:40:39.004Z"
      },
      {
        "duration": 21,
        "start_time": "2023-03-15T13:40:39.803Z"
      },
      {
        "duration": 5,
        "start_time": "2023-03-15T13:40:40.553Z"
      },
      {
        "duration": 684,
        "start_time": "2023-03-15T13:40:41.102Z"
      },
      {
        "duration": 7,
        "start_time": "2023-03-15T13:40:43.755Z"
      },
      {
        "duration": 206,
        "start_time": "2023-03-15T13:41:08.209Z"
      },
      {
        "duration": 288,
        "start_time": "2023-03-15T13:41:21.238Z"
      },
      {
        "duration": 252,
        "start_time": "2023-03-15T13:44:14.208Z"
      },
      {
        "duration": 239,
        "start_time": "2023-03-15T13:45:01.905Z"
      },
      {
        "duration": 10,
        "start_time": "2023-03-15T13:46:13.595Z"
      },
      {
        "duration": 8,
        "start_time": "2023-03-15T13:46:52.893Z"
      },
      {
        "duration": 24,
        "start_time": "2023-03-15T13:47:07.199Z"
      },
      {
        "duration": 260,
        "start_time": "2023-03-15T13:47:12.392Z"
      },
      {
        "duration": 22,
        "start_time": "2023-03-15T13:47:15.253Z"
      },
      {
        "duration": 243,
        "start_time": "2023-03-15T13:49:26.191Z"
      },
      {
        "duration": 3,
        "start_time": "2023-03-15T13:49:32.798Z"
      },
      {
        "duration": 56,
        "start_time": "2023-03-15T13:49:33.023Z"
      },
      {
        "duration": 20,
        "start_time": "2023-03-15T13:49:33.395Z"
      },
      {
        "duration": 4,
        "start_time": "2023-03-15T13:49:33.795Z"
      },
      {
        "duration": 360,
        "start_time": "2023-03-15T13:49:35.107Z"
      },
      {
        "duration": 216,
        "start_time": "2023-03-15T13:49:36.390Z"
      },
      {
        "duration": 13,
        "start_time": "2023-03-15T13:49:37.925Z"
      },
      {
        "duration": 15,
        "start_time": "2023-03-15T13:53:31.090Z"
      },
      {
        "duration": 215,
        "start_time": "2023-03-15T13:53:46.294Z"
      },
      {
        "duration": 13,
        "start_time": "2023-03-15T13:53:48.244Z"
      },
      {
        "duration": 4,
        "start_time": "2023-03-15T13:53:54.690Z"
      },
      {
        "duration": 51,
        "start_time": "2023-03-15T13:53:54.894Z"
      },
      {
        "duration": 25,
        "start_time": "2023-03-15T13:53:55.095Z"
      },
      {
        "duration": 5,
        "start_time": "2023-03-15T13:53:55.292Z"
      },
      {
        "duration": 220,
        "start_time": "2023-03-15T13:53:55.998Z"
      },
      {
        "duration": 229,
        "start_time": "2023-03-15T13:53:56.346Z"
      },
      {
        "duration": 227,
        "start_time": "2023-03-15T13:53:57.190Z"
      },
      {
        "duration": 227,
        "start_time": "2023-03-15T13:54:34.395Z"
      },
      {
        "duration": 319,
        "start_time": "2023-03-15T13:54:36.520Z"
      },
      {
        "duration": 240,
        "start_time": "2023-03-15T13:54:44.156Z"
      },
      {
        "duration": 248,
        "start_time": "2023-03-15T13:54:51.816Z"
      },
      {
        "duration": 227,
        "start_time": "2023-03-15T13:57:03.387Z"
      },
      {
        "duration": 248,
        "start_time": "2023-03-15T13:57:16.594Z"
      },
      {
        "duration": 247,
        "start_time": "2023-03-15T13:57:28.328Z"
      },
      {
        "duration": 204,
        "start_time": "2023-03-15T13:58:13.726Z"
      },
      {
        "duration": 243,
        "start_time": "2023-03-15T13:58:41.117Z"
      },
      {
        "duration": 328,
        "start_time": "2023-03-15T13:58:43.088Z"
      },
      {
        "duration": 209,
        "start_time": "2023-03-15T13:58:48.453Z"
      },
      {
        "duration": 212,
        "start_time": "2023-03-15T13:58:52.742Z"
      },
      {
        "duration": 198,
        "start_time": "2023-03-15T14:06:22.625Z"
      },
      {
        "duration": 222,
        "start_time": "2023-03-15T14:06:24.103Z"
      },
      {
        "duration": 197,
        "start_time": "2023-03-15T14:06:29.916Z"
      },
      {
        "duration": 206,
        "start_time": "2023-03-15T14:10:59.608Z"
      },
      {
        "duration": 219,
        "start_time": "2023-03-15T14:11:10.255Z"
      },
      {
        "duration": 214,
        "start_time": "2023-03-15T14:11:30.276Z"
      },
      {
        "duration": 154,
        "start_time": "2023-03-15T14:17:46.317Z"
      },
      {
        "duration": 152,
        "start_time": "2023-03-15T14:17:58.475Z"
      },
      {
        "duration": 1371,
        "start_time": "2023-03-16T12:02:29.427Z"
      },
      {
        "duration": 206,
        "start_time": "2023-03-16T12:02:30.800Z"
      },
      {
        "duration": 25,
        "start_time": "2023-03-16T12:02:31.008Z"
      },
      {
        "duration": 31,
        "start_time": "2023-03-16T12:02:31.034Z"
      },
      {
        "duration": 248,
        "start_time": "2023-03-16T12:02:32.808Z"
      },
      {
        "duration": 237,
        "start_time": "2023-03-16T12:02:33.621Z"
      },
      {
        "duration": 227,
        "start_time": "2023-03-16T12:02:34.358Z"
      },
      {
        "duration": 140,
        "start_time": "2023-03-16T12:02:34.651Z"
      },
      {
        "duration": 227,
        "start_time": "2023-03-16T12:02:35.125Z"
      },
      {
        "duration": 123,
        "start_time": "2023-03-16T12:08:25.858Z"
      },
      {
        "duration": 344,
        "start_time": "2023-03-16T12:09:08.944Z"
      },
      {
        "duration": 5,
        "start_time": "2023-03-16T12:09:13.235Z"
      },
      {
        "duration": 6,
        "start_time": "2023-03-16T12:09:14.004Z"
      },
      {
        "duration": 4,
        "start_time": "2023-03-16T12:10:13.282Z"
      },
      {
        "duration": 4,
        "start_time": "2023-03-16T12:10:31.511Z"
      },
      {
        "duration": 4,
        "start_time": "2023-03-16T12:10:41.286Z"
      },
      {
        "duration": 10,
        "start_time": "2023-03-16T12:11:36.766Z"
      },
      {
        "duration": 5,
        "start_time": "2023-03-16T12:11:37.034Z"
      },
      {
        "duration": 9,
        "start_time": "2023-03-16T12:11:37.287Z"
      },
      {
        "duration": 22,
        "start_time": "2023-03-16T12:16:10.111Z"
      },
      {
        "duration": 3,
        "start_time": "2023-03-16T12:17:44.375Z"
      },
      {
        "duration": 194,
        "start_time": "2023-03-16T12:18:14.608Z"
      },
      {
        "duration": 137,
        "start_time": "2023-03-16T12:19:47.909Z"
      },
      {
        "duration": 12,
        "start_time": "2023-03-16T12:20:17.703Z"
      },
      {
        "duration": 8,
        "start_time": "2023-03-16T12:20:25.509Z"
      },
      {
        "duration": 4,
        "start_time": "2023-03-16T12:20:26.716Z"
      },
      {
        "duration": 3,
        "start_time": "2023-03-16T12:20:27.074Z"
      },
      {
        "duration": 3,
        "start_time": "2023-03-16T12:20:28.288Z"
      },
      {
        "duration": 115,
        "start_time": "2023-03-16T12:20:28.798Z"
      },
      {
        "duration": 93,
        "start_time": "2023-03-16T12:23:56.017Z"
      },
      {
        "duration": 3,
        "start_time": "2023-03-16T12:24:25.206Z"
      },
      {
        "duration": 9,
        "start_time": "2023-03-16T12:27:24.615Z"
      },
      {
        "duration": 12,
        "start_time": "2023-03-16T12:28:05.441Z"
      },
      {
        "duration": 3,
        "start_time": "2023-03-16T12:28:12.802Z"
      },
      {
        "duration": 10,
        "start_time": "2023-03-16T12:28:57.671Z"
      },
      {
        "duration": 10,
        "start_time": "2023-03-16T12:29:14.382Z"
      },
      {
        "duration": 9,
        "start_time": "2023-03-16T12:30:26.712Z"
      },
      {
        "duration": 117,
        "start_time": "2023-03-16T12:30:46.893Z"
      },
      {
        "duration": 5,
        "start_time": "2023-03-16T12:37:55.895Z"
      },
      {
        "duration": 8,
        "start_time": "2023-03-16T12:39:39.456Z"
      },
      {
        "duration": 3,
        "start_time": "2023-03-16T12:39:41.397Z"
      },
      {
        "duration": 4,
        "start_time": "2023-03-16T12:40:32.229Z"
      },
      {
        "duration": 3,
        "start_time": "2023-03-16T12:40:44.708Z"
      },
      {
        "duration": 3,
        "start_time": "2023-03-16T12:40:44.989Z"
      },
      {
        "duration": 5,
        "start_time": "2023-03-16T12:40:45.415Z"
      },
      {
        "duration": 9,
        "start_time": "2023-03-16T12:40:48.792Z"
      },
      {
        "duration": 3,
        "start_time": "2023-03-16T12:41:30.505Z"
      },
      {
        "duration": 3,
        "start_time": "2023-03-16T12:42:38.102Z"
      },
      {
        "duration": 3,
        "start_time": "2023-03-16T12:43:27.705Z"
      },
      {
        "duration": 7,
        "start_time": "2023-03-16T12:43:33.458Z"
      },
      {
        "duration": 95,
        "start_time": "2023-03-16T12:43:49.512Z"
      },
      {
        "duration": 4,
        "start_time": "2023-03-16T12:43:54.735Z"
      },
      {
        "duration": 144,
        "start_time": "2023-03-16T12:44:27.336Z"
      },
      {
        "duration": 13,
        "start_time": "2023-03-16T12:46:03.914Z"
      },
      {
        "duration": 129,
        "start_time": "2023-03-16T12:46:09.301Z"
      },
      {
        "duration": 153,
        "start_time": "2023-03-16T12:51:40.905Z"
      },
      {
        "duration": 1304,
        "start_time": "2023-03-16T13:07:24.533Z"
      },
      {
        "duration": 51,
        "start_time": "2023-03-16T13:07:25.839Z"
      },
      {
        "duration": 17,
        "start_time": "2023-03-16T13:07:25.892Z"
      },
      {
        "duration": 3,
        "start_time": "2023-03-16T13:07:25.911Z"
      },
      {
        "duration": 205,
        "start_time": "2023-03-16T13:07:25.916Z"
      },
      {
        "duration": 201,
        "start_time": "2023-03-16T13:07:26.123Z"
      },
      {
        "duration": 258,
        "start_time": "2023-03-16T13:07:26.326Z"
      },
      {
        "duration": 128,
        "start_time": "2023-03-16T13:07:26.586Z"
      },
      {
        "duration": 203,
        "start_time": "2023-03-16T13:07:26.715Z"
      },
      {
        "duration": 6,
        "start_time": "2023-03-16T13:07:26.921Z"
      },
      {
        "duration": 28,
        "start_time": "2023-03-16T13:07:26.929Z"
      },
      {
        "duration": 20,
        "start_time": "2023-03-16T13:07:26.959Z"
      },
      {
        "duration": 23,
        "start_time": "2023-03-16T13:07:26.981Z"
      },
      {
        "duration": 24,
        "start_time": "2023-03-16T13:07:27.006Z"
      },
      {
        "duration": 213,
        "start_time": "2023-03-16T13:07:27.031Z"
      },
      {
        "duration": 0,
        "start_time": "2023-03-16T13:07:27.246Z"
      },
      {
        "duration": 0,
        "start_time": "2023-03-16T13:07:27.246Z"
      },
      {
        "duration": 0,
        "start_time": "2023-03-16T13:07:27.248Z"
      },
      {
        "duration": 0,
        "start_time": "2023-03-16T13:07:27.249Z"
      },
      {
        "duration": 0,
        "start_time": "2023-03-16T13:07:27.250Z"
      },
      {
        "duration": 0,
        "start_time": "2023-03-16T13:07:27.252Z"
      },
      {
        "duration": 6,
        "start_time": "2023-03-16T13:11:05.401Z"
      },
      {
        "duration": 7,
        "start_time": "2023-03-16T13:11:05.793Z"
      },
      {
        "duration": 5,
        "start_time": "2023-03-16T13:11:46.021Z"
      },
      {
        "duration": 4,
        "start_time": "2023-03-16T13:11:47.707Z"
      },
      {
        "duration": 2,
        "start_time": "2023-03-16T13:11:48.831Z"
      },
      {
        "duration": 3,
        "start_time": "2023-03-16T13:11:50.477Z"
      },
      {
        "duration": 98,
        "start_time": "2023-03-16T13:11:51.300Z"
      },
      {
        "duration": 9,
        "start_time": "2023-03-16T13:13:07.305Z"
      },
      {
        "duration": 5,
        "start_time": "2023-03-16T13:13:08.209Z"
      },
      {
        "duration": 3,
        "start_time": "2023-03-16T13:13:08.633Z"
      },
      {
        "duration": 3,
        "start_time": "2023-03-16T13:13:09.075Z"
      },
      {
        "duration": 3,
        "start_time": "2023-03-16T13:13:10.049Z"
      },
      {
        "duration": 83,
        "start_time": "2023-03-16T13:13:10.567Z"
      },
      {
        "duration": 19,
        "start_time": "2023-03-16T13:18:59.620Z"
      },
      {
        "duration": 11,
        "start_time": "2023-03-16T13:20:46.894Z"
      },
      {
        "duration": 28,
        "start_time": "2023-03-16T13:20:57.900Z"
      },
      {
        "duration": 7,
        "start_time": "2023-03-16T13:21:07.745Z"
      },
      {
        "duration": 6,
        "start_time": "2023-03-16T13:21:08.228Z"
      },
      {
        "duration": 3,
        "start_time": "2023-03-16T13:21:08.837Z"
      },
      {
        "duration": 2,
        "start_time": "2023-03-16T13:21:10.280Z"
      },
      {
        "duration": 3,
        "start_time": "2023-03-16T13:21:11.554Z"
      },
      {
        "duration": 9,
        "start_time": "2023-03-16T13:21:39.911Z"
      },
      {
        "duration": 6,
        "start_time": "2023-03-16T13:21:40.641Z"
      },
      {
        "duration": 3,
        "start_time": "2023-03-16T13:21:41.038Z"
      },
      {
        "duration": 4,
        "start_time": "2023-03-16T13:21:41.410Z"
      },
      {
        "duration": 2,
        "start_time": "2023-03-16T13:21:45.744Z"
      },
      {
        "duration": 20,
        "start_time": "2023-03-16T13:21:45.770Z"
      },
      {
        "duration": 4,
        "start_time": "2023-03-16T13:25:09.091Z"
      },
      {
        "duration": 52,
        "start_time": "2023-03-16T13:25:12.004Z"
      },
      {
        "duration": 23,
        "start_time": "2023-03-16T13:25:12.252Z"
      },
      {
        "duration": 5,
        "start_time": "2023-03-16T13:25:12.520Z"
      },
      {
        "duration": 249,
        "start_time": "2023-03-16T13:25:13.296Z"
      },
      {
        "duration": 261,
        "start_time": "2023-03-16T13:25:13.721Z"
      },
      {
        "duration": 219,
        "start_time": "2023-03-16T13:25:14.128Z"
      },
      {
        "duration": 146,
        "start_time": "2023-03-16T13:25:14.350Z"
      },
      {
        "duration": 288,
        "start_time": "2023-03-16T13:25:14.571Z"
      },
      {
        "duration": 14,
        "start_time": "2023-03-16T13:25:15.655Z"
      },
      {
        "duration": 30,
        "start_time": "2023-03-16T13:25:16.210Z"
      },
      {
        "duration": 10,
        "start_time": "2023-03-16T13:25:16.863Z"
      },
      {
        "duration": 8,
        "start_time": "2023-03-16T13:25:17.438Z"
      },
      {
        "duration": 4,
        "start_time": "2023-03-16T13:25:18.694Z"
      },
      {
        "duration": 11,
        "start_time": "2023-03-16T13:25:23.052Z"
      },
      {
        "duration": 3,
        "start_time": "2023-03-16T13:25:25.913Z"
      },
      {
        "duration": 3,
        "start_time": "2023-03-16T13:25:27.080Z"
      },
      {
        "duration": 22,
        "start_time": "2023-03-16T13:25:27.760Z"
      },
      {
        "duration": 10,
        "start_time": "2023-03-16T13:27:27.308Z"
      },
      {
        "duration": 7,
        "start_time": "2023-03-16T13:27:28.043Z"
      },
      {
        "duration": 4,
        "start_time": "2023-03-16T13:27:28.491Z"
      },
      {
        "duration": 12,
        "start_time": "2023-03-16T13:27:28.904Z"
      },
      {
        "duration": 4,
        "start_time": "2023-03-16T13:27:32.585Z"
      },
      {
        "duration": 3,
        "start_time": "2023-03-16T13:27:33.777Z"
      },
      {
        "duration": 30,
        "start_time": "2023-03-16T13:27:34.265Z"
      },
      {
        "duration": 8,
        "start_time": "2023-03-16T13:28:28.690Z"
      },
      {
        "duration": 6,
        "start_time": "2023-03-16T13:29:50.187Z"
      },
      {
        "duration": 3,
        "start_time": "2023-03-16T13:30:11.407Z"
      },
      {
        "duration": 10,
        "start_time": "2023-03-16T13:31:05.753Z"
      },
      {
        "duration": 3,
        "start_time": "2023-03-16T13:31:06.796Z"
      },
      {
        "duration": 3,
        "start_time": "2023-03-16T13:31:07.856Z"
      },
      {
        "duration": 21,
        "start_time": "2023-03-16T13:31:08.257Z"
      },
      {
        "duration": 17,
        "start_time": "2023-03-16T13:31:48.383Z"
      },
      {
        "duration": 25,
        "start_time": "2023-03-16T13:31:48.861Z"
      },
      {
        "duration": 12,
        "start_time": "2023-03-16T13:31:50.801Z"
      },
      {
        "duration": 6,
        "start_time": "2023-03-16T13:31:51.987Z"
      },
      {
        "duration": 10,
        "start_time": "2023-03-16T13:31:52.585Z"
      },
      {
        "duration": 14,
        "start_time": "2023-03-16T13:32:09.021Z"
      },
      {
        "duration": 28,
        "start_time": "2023-03-16T13:32:09.289Z"
      },
      {
        "duration": 12,
        "start_time": "2023-03-16T13:32:09.496Z"
      },
      {
        "duration": 5,
        "start_time": "2023-03-16T13:32:09.781Z"
      },
      {
        "duration": 3,
        "start_time": "2023-03-16T13:32:10.616Z"
      },
      {
        "duration": 10,
        "start_time": "2023-03-16T13:32:11.197Z"
      },
      {
        "duration": 5,
        "start_time": "2023-03-16T13:32:12.199Z"
      },
      {
        "duration": 3,
        "start_time": "2023-03-16T13:32:13.005Z"
      },
      {
        "duration": 26,
        "start_time": "2023-03-16T13:32:13.817Z"
      },
      {
        "duration": 1670,
        "start_time": "2023-03-16T13:32:22.236Z"
      },
      {
        "duration": 67,
        "start_time": "2023-03-16T13:32:23.909Z"
      },
      {
        "duration": 25,
        "start_time": "2023-03-16T13:32:23.977Z"
      },
      {
        "duration": 68,
        "start_time": "2023-03-16T13:32:24.003Z"
      },
      {
        "duration": 304,
        "start_time": "2023-03-16T13:32:24.074Z"
      },
      {
        "duration": 277,
        "start_time": "2023-03-16T13:32:24.380Z"
      },
      {
        "duration": 346,
        "start_time": "2023-03-16T13:32:24.659Z"
      },
      {
        "duration": 187,
        "start_time": "2023-03-16T13:32:25.007Z"
      },
      {
        "duration": 251,
        "start_time": "2023-03-16T13:32:25.196Z"
      },
      {
        "duration": 30,
        "start_time": "2023-03-16T13:32:25.451Z"
      },
      {
        "duration": 30,
        "start_time": "2023-03-16T13:32:25.483Z"
      },
      {
        "duration": 7,
        "start_time": "2023-03-16T13:32:25.514Z"
      },
      {
        "duration": 16,
        "start_time": "2023-03-16T13:32:25.523Z"
      },
      {
        "duration": 28,
        "start_time": "2023-03-16T13:32:25.544Z"
      },
      {
        "duration": 137,
        "start_time": "2023-03-16T13:32:25.574Z"
      },
      {
        "duration": 0,
        "start_time": "2023-03-16T13:32:25.712Z"
      },
      {
        "duration": 0,
        "start_time": "2023-03-16T13:32:25.713Z"
      },
      {
        "duration": 0,
        "start_time": "2023-03-16T13:32:25.714Z"
      },
      {
        "duration": 0,
        "start_time": "2023-03-16T13:32:25.715Z"
      },
      {
        "duration": 1,
        "start_time": "2023-03-16T13:32:25.716Z"
      },
      {
        "duration": 0,
        "start_time": "2023-03-16T13:32:25.718Z"
      },
      {
        "duration": 0,
        "start_time": "2023-03-16T13:32:25.719Z"
      },
      {
        "duration": 0,
        "start_time": "2023-03-16T13:32:25.720Z"
      },
      {
        "duration": 0,
        "start_time": "2023-03-16T13:32:25.721Z"
      },
      {
        "duration": 10,
        "start_time": "2023-03-16T13:38:20.528Z"
      },
      {
        "duration": 23,
        "start_time": "2023-03-16T13:38:34.506Z"
      },
      {
        "duration": 10,
        "start_time": "2023-03-16T13:39:14.697Z"
      },
      {
        "duration": 2,
        "start_time": "2023-03-16T13:39:16.241Z"
      },
      {
        "duration": 3,
        "start_time": "2023-03-16T13:39:17.128Z"
      },
      {
        "duration": 21,
        "start_time": "2023-03-16T13:39:17.676Z"
      },
      {
        "duration": 59,
        "start_time": "2023-03-16T13:50:30.590Z"
      },
      {
        "duration": 224,
        "start_time": "2023-03-16T13:50:37.923Z"
      },
      {
        "duration": 138,
        "start_time": "2023-03-16T13:50:55.205Z"
      },
      {
        "duration": 4,
        "start_time": "2023-03-16T13:51:21.975Z"
      },
      {
        "duration": 21,
        "start_time": "2023-03-16T13:51:28.429Z"
      },
      {
        "duration": 9,
        "start_time": "2023-03-16T13:53:02.154Z"
      },
      {
        "duration": 6,
        "start_time": "2023-03-16T13:53:02.901Z"
      },
      {
        "duration": 4,
        "start_time": "2023-03-16T13:53:05.812Z"
      },
      {
        "duration": 4,
        "start_time": "2023-03-16T13:53:06.843Z"
      },
      {
        "duration": 9,
        "start_time": "2023-03-16T13:53:40.344Z"
      },
      {
        "duration": 69,
        "start_time": "2023-03-16T13:54:01.585Z"
      },
      {
        "duration": 12,
        "start_time": "2023-03-16T13:54:07.926Z"
      },
      {
        "duration": 10,
        "start_time": "2023-03-16T13:54:13.873Z"
      },
      {
        "duration": 15,
        "start_time": "2023-03-16T13:57:29.157Z"
      },
      {
        "duration": 3,
        "start_time": "2023-03-16T13:57:30.678Z"
      },
      {
        "duration": 10,
        "start_time": "2023-03-16T13:57:42.766Z"
      },
      {
        "duration": 11,
        "start_time": "2023-03-16T14:01:46.641Z"
      },
      {
        "duration": 45,
        "start_time": "2023-03-16T14:02:13.108Z"
      },
      {
        "duration": 2300,
        "start_time": "2023-03-16T14:02:17.850Z"
      },
      {
        "duration": 2360,
        "start_time": "2023-03-16T14:02:33.075Z"
      },
      {
        "duration": 3,
        "start_time": "2023-03-16T14:03:25.397Z"
      },
      {
        "duration": 3,
        "start_time": "2023-03-16T14:04:08.143Z"
      },
      {
        "duration": 15520,
        "start_time": "2023-03-16T14:04:31.781Z"
      },
      {
        "duration": 3,
        "start_time": "2023-03-16T14:04:47.303Z"
      },
      {
        "duration": 4,
        "start_time": "2023-03-16T14:05:00.497Z"
      },
      {
        "duration": 2367,
        "start_time": "2023-03-16T14:05:47.633Z"
      },
      {
        "duration": 857,
        "start_time": "2023-03-16T14:07:59.188Z"
      },
      {
        "duration": 2,
        "start_time": "2023-03-16T14:08:33.493Z"
      },
      {
        "duration": 7306,
        "start_time": "2023-03-16T14:09:00.548Z"
      },
      {
        "duration": 4,
        "start_time": "2023-03-16T14:10:04.648Z"
      },
      {
        "duration": 246,
        "start_time": "2023-03-16T14:10:31.310Z"
      },
      {
        "duration": 14,
        "start_time": "2023-03-16T14:16:26.665Z"
      },
      {
        "duration": 5,
        "start_time": "2023-03-16T14:16:45.666Z"
      },
      {
        "duration": 19,
        "start_time": "2023-03-16T14:16:50.449Z"
      },
      {
        "duration": 11,
        "start_time": "2023-03-16T14:20:04.542Z"
      },
      {
        "duration": 23,
        "start_time": "2023-03-16T14:20:11.789Z"
      },
      {
        "duration": 1323,
        "start_time": "2023-03-16T14:22:35.452Z"
      },
      {
        "duration": 50,
        "start_time": "2023-03-16T14:22:36.777Z"
      },
      {
        "duration": 19,
        "start_time": "2023-03-16T14:22:36.828Z"
      },
      {
        "duration": 4,
        "start_time": "2023-03-16T14:22:36.849Z"
      },
      {
        "duration": 233,
        "start_time": "2023-03-16T14:22:36.855Z"
      },
      {
        "duration": 211,
        "start_time": "2023-03-16T14:22:37.089Z"
      },
      {
        "duration": 269,
        "start_time": "2023-03-16T14:22:37.301Z"
      },
      {
        "duration": 132,
        "start_time": "2023-03-16T14:22:37.571Z"
      },
      {
        "duration": 190,
        "start_time": "2023-03-16T14:22:37.704Z"
      },
      {
        "duration": 19,
        "start_time": "2023-03-16T14:22:37.896Z"
      },
      {
        "duration": 36,
        "start_time": "2023-03-16T14:22:37.916Z"
      },
      {
        "duration": 7,
        "start_time": "2023-03-16T14:22:37.953Z"
      },
      {
        "duration": 4,
        "start_time": "2023-03-16T14:22:37.961Z"
      },
      {
        "duration": 9,
        "start_time": "2023-03-16T14:22:37.966Z"
      },
      {
        "duration": 5,
        "start_time": "2023-03-16T14:22:37.976Z"
      },
      {
        "duration": 230,
        "start_time": "2023-03-16T14:22:37.982Z"
      },
      {
        "duration": 0,
        "start_time": "2023-03-16T14:22:38.213Z"
      },
      {
        "duration": 0,
        "start_time": "2023-03-16T14:22:38.215Z"
      },
      {
        "duration": 0,
        "start_time": "2023-03-16T14:22:38.215Z"
      },
      {
        "duration": 0,
        "start_time": "2023-03-16T14:22:38.216Z"
      },
      {
        "duration": 0,
        "start_time": "2023-03-16T14:22:38.218Z"
      },
      {
        "duration": 0,
        "start_time": "2023-03-16T14:22:38.219Z"
      },
      {
        "duration": 0,
        "start_time": "2023-03-16T14:22:38.240Z"
      },
      {
        "duration": 0,
        "start_time": "2023-03-16T14:22:38.242Z"
      },
      {
        "duration": 0,
        "start_time": "2023-03-16T14:22:38.243Z"
      },
      {
        "duration": 0,
        "start_time": "2023-03-16T14:22:38.244Z"
      },
      {
        "duration": 0,
        "start_time": "2023-03-16T14:22:38.246Z"
      },
      {
        "duration": 33,
        "start_time": "2023-03-16T14:22:48.407Z"
      },
      {
        "duration": 1367,
        "start_time": "2023-03-16T14:22:54.706Z"
      },
      {
        "duration": 50,
        "start_time": "2023-03-16T14:22:56.075Z"
      },
      {
        "duration": 16,
        "start_time": "2023-03-16T14:22:56.127Z"
      },
      {
        "duration": 3,
        "start_time": "2023-03-16T14:22:56.145Z"
      },
      {
        "duration": 212,
        "start_time": "2023-03-16T14:22:56.149Z"
      },
      {
        "duration": 223,
        "start_time": "2023-03-16T14:22:56.362Z"
      },
      {
        "duration": 281,
        "start_time": "2023-03-16T14:22:56.587Z"
      },
      {
        "duration": 139,
        "start_time": "2023-03-16T14:22:56.870Z"
      },
      {
        "duration": 197,
        "start_time": "2023-03-16T14:22:57.011Z"
      },
      {
        "duration": 18,
        "start_time": "2023-03-16T14:22:57.210Z"
      },
      {
        "duration": 40,
        "start_time": "2023-03-16T14:22:57.230Z"
      },
      {
        "duration": 7,
        "start_time": "2023-03-16T14:22:57.271Z"
      },
      {
        "duration": 5,
        "start_time": "2023-03-16T14:22:57.279Z"
      },
      {
        "duration": 5,
        "start_time": "2023-03-16T14:22:57.285Z"
      },
      {
        "duration": 9,
        "start_time": "2023-03-16T14:22:57.292Z"
      },
      {
        "duration": 46,
        "start_time": "2023-03-16T14:22:57.303Z"
      },
      {
        "duration": 2430,
        "start_time": "2023-03-16T14:22:57.441Z"
      },
      {
        "duration": 2,
        "start_time": "2023-03-16T14:22:59.873Z"
      },
      {
        "duration": 15151,
        "start_time": "2023-03-16T14:22:59.876Z"
      },
      {
        "duration": 3,
        "start_time": "2023-03-16T14:23:15.029Z"
      },
      {
        "duration": 2396,
        "start_time": "2023-03-16T14:23:15.040Z"
      },
      {
        "duration": 804,
        "start_time": "2023-03-16T14:23:17.440Z"
      },
      {
        "duration": 3,
        "start_time": "2023-03-16T14:23:18.245Z"
      },
      {
        "duration": 7394,
        "start_time": "2023-03-16T14:23:18.249Z"
      },
      {
        "duration": 3,
        "start_time": "2023-03-16T14:23:25.645Z"
      },
      {
        "duration": 310,
        "start_time": "2023-03-16T14:23:25.649Z"
      },
      {
        "duration": 96,
        "start_time": "2023-03-16T14:23:25.960Z"
      },
      {
        "duration": 2597,
        "start_time": "2023-03-17T15:19:53.767Z"
      },
      {
        "duration": 419,
        "start_time": "2023-03-17T15:19:56.374Z"
      },
      {
        "duration": 41,
        "start_time": "2023-03-17T15:19:56.798Z"
      },
      {
        "duration": 136,
        "start_time": "2023-03-17T15:19:56.845Z"
      },
      {
        "duration": 441,
        "start_time": "2023-03-17T15:19:58.306Z"
      },
      {
        "duration": 385,
        "start_time": "2023-03-17T15:19:59.574Z"
      },
      {
        "duration": 421,
        "start_time": "2023-03-17T15:20:00.341Z"
      },
      {
        "duration": 210,
        "start_time": "2023-03-17T15:20:00.768Z"
      },
      {
        "duration": 473,
        "start_time": "2023-03-17T15:20:01.073Z"
      },
      {
        "duration": 31,
        "start_time": "2023-03-17T15:20:04.766Z"
      },
      {
        "duration": 79,
        "start_time": "2023-03-17T15:20:06.280Z"
      },
      {
        "duration": 11,
        "start_time": "2023-03-17T15:20:12.561Z"
      },
      {
        "duration": 7,
        "start_time": "2023-03-17T15:20:12.919Z"
      },
      {
        "duration": 5,
        "start_time": "2023-03-17T15:20:14.370Z"
      },
      {
        "duration": 9,
        "start_time": "2023-03-17T15:20:15.349Z"
      },
      {
        "duration": 96,
        "start_time": "2023-03-17T15:20:20.334Z"
      },
      {
        "duration": 252,
        "start_time": "2023-03-17T15:35:24.967Z"
      },
      {
        "duration": 10,
        "start_time": "2023-03-17T15:36:03.935Z"
      },
      {
        "duration": 10,
        "start_time": "2023-03-17T15:36:12.845Z"
      },
      {
        "duration": 4,
        "start_time": "2023-03-17T15:37:08.259Z"
      },
      {
        "duration": 15,
        "start_time": "2023-03-17T15:37:15.857Z"
      },
      {
        "duration": 857,
        "start_time": "2023-03-17T15:37:21.546Z"
      },
      {
        "duration": 645,
        "start_time": "2023-03-17T15:38:31.988Z"
      },
      {
        "duration": 593,
        "start_time": "2023-03-17T15:38:38.505Z"
      },
      {
        "duration": 360,
        "start_time": "2023-03-17T15:38:58.159Z"
      },
      {
        "duration": 836,
        "start_time": "2023-03-17T15:39:02.159Z"
      },
      {
        "duration": 11,
        "start_time": "2023-03-17T15:47:28.082Z"
      },
      {
        "duration": 4,
        "start_time": "2023-03-17T15:48:04.862Z"
      },
      {
        "duration": 2,
        "start_time": "2023-03-17T15:48:14.182Z"
      },
      {
        "duration": 58,
        "start_time": "2023-03-17T15:48:28.634Z"
      },
      {
        "duration": 903,
        "start_time": "2023-03-17T15:48:52.014Z"
      },
      {
        "duration": 1051,
        "start_time": "2023-03-17T15:49:07.552Z"
      },
      {
        "duration": 458,
        "start_time": "2023-03-17T15:49:15.464Z"
      },
      {
        "duration": 10,
        "start_time": "2023-03-17T15:49:50.363Z"
      },
      {
        "duration": 507,
        "start_time": "2023-03-17T15:49:56.425Z"
      },
      {
        "duration": 3589,
        "start_time": "2023-03-17T15:49:59.033Z"
      },
      {
        "duration": 5,
        "start_time": "2023-03-17T15:50:02.628Z"
      },
      {
        "duration": 22524,
        "start_time": "2023-03-17T15:50:02.636Z"
      },
      {
        "duration": 5,
        "start_time": "2023-03-17T15:50:25.168Z"
      },
      {
        "duration": 3724,
        "start_time": "2023-03-17T15:50:25.174Z"
      },
      {
        "duration": 2612,
        "start_time": "2023-03-17T15:51:11.420Z"
      },
      {
        "duration": 219520,
        "start_time": "2023-03-17T15:51:45.919Z"
      },
      {
        "duration": 5,
        "start_time": "2023-03-17T15:55:25.492Z"
      },
      {
        "duration": 1249534,
        "start_time": "2023-03-17T15:55:25.501Z"
      },
      {
        "duration": 6,
        "start_time": "2023-03-17T16:16:15.090Z"
      },
      {
        "duration": 117909,
        "start_time": "2023-03-17T16:16:15.098Z"
      },
      {
        "duration": 1977,
        "start_time": "2023-03-18T13:13:19.583Z"
      },
      {
        "duration": 214,
        "start_time": "2023-03-18T13:13:21.566Z"
      },
      {
        "duration": 25,
        "start_time": "2023-03-18T13:13:21.782Z"
      },
      {
        "duration": 5,
        "start_time": "2023-03-18T13:13:21.809Z"
      },
      {
        "duration": 283,
        "start_time": "2023-03-18T13:13:21.815Z"
      },
      {
        "duration": 366,
        "start_time": "2023-03-18T13:13:22.100Z"
      },
      {
        "duration": 351,
        "start_time": "2023-03-18T13:13:22.469Z"
      },
      {
        "duration": 178,
        "start_time": "2023-03-18T13:13:22.823Z"
      },
      {
        "duration": 227,
        "start_time": "2023-03-18T13:13:23.003Z"
      },
      {
        "duration": 19,
        "start_time": "2023-03-18T13:13:23.659Z"
      },
      {
        "duration": 24,
        "start_time": "2023-03-18T13:13:24.059Z"
      },
      {
        "duration": 9,
        "start_time": "2023-03-18T13:13:24.259Z"
      },
      {
        "duration": 5,
        "start_time": "2023-03-18T13:13:24.463Z"
      },
      {
        "duration": 3,
        "start_time": "2023-03-18T13:13:24.656Z"
      },
      {
        "duration": 16,
        "start_time": "2023-03-18T13:13:24.839Z"
      },
      {
        "duration": 3,
        "start_time": "2023-03-18T13:13:25.312Z"
      },
      {
        "duration": 161,
        "start_time": "2023-03-18T13:13:26.720Z"
      },
      {
        "duration": 3133,
        "start_time": "2023-03-18T13:13:28.060Z"
      },
      {
        "duration": 3,
        "start_time": "2023-03-18T13:13:31.195Z"
      },
      {
        "duration": 20665,
        "start_time": "2023-03-18T13:13:31.200Z"
      },
      {
        "duration": 5,
        "start_time": "2023-03-18T13:13:51.868Z"
      },
      {
        "duration": 2543,
        "start_time": "2023-03-18T13:13:51.875Z"
      },
      {
        "duration": 818335,
        "start_time": "2023-03-18T13:13:54.420Z"
      },
      {
        "duration": 5,
        "start_time": "2023-03-18T13:27:32.763Z"
      },
      {
        "duration": 7019376,
        "start_time": "2023-03-18T13:27:32.774Z"
      },
      {
        "duration": 14,
        "start_time": "2023-03-18T15:24:32.160Z"
      },
      {
        "duration": 312476,
        "start_time": "2023-03-18T15:24:32.177Z"
      },
      {
        "duration": 2383,
        "start_time": "2023-03-19T04:38:26.322Z"
      },
      {
        "duration": 591,
        "start_time": "2023-03-19T04:38:28.710Z"
      },
      {
        "duration": 22,
        "start_time": "2023-03-19T04:38:29.303Z"
      },
      {
        "duration": 5,
        "start_time": "2023-03-19T04:38:29.328Z"
      },
      {
        "duration": 299,
        "start_time": "2023-03-19T04:38:29.334Z"
      },
      {
        "duration": 346,
        "start_time": "2023-03-19T04:38:29.635Z"
      },
      {
        "duration": 377,
        "start_time": "2023-03-19T04:38:29.986Z"
      },
      {
        "duration": 218,
        "start_time": "2023-03-19T04:38:30.369Z"
      },
      {
        "duration": 244,
        "start_time": "2023-03-19T04:38:30.594Z"
      },
      {
        "duration": 30,
        "start_time": "2023-03-19T04:38:30.847Z"
      },
      {
        "duration": 45,
        "start_time": "2023-03-19T04:38:30.883Z"
      },
      {
        "duration": 32,
        "start_time": "2023-03-19T04:38:30.929Z"
      },
      {
        "duration": 43,
        "start_time": "2023-03-19T04:38:30.962Z"
      },
      {
        "duration": 23,
        "start_time": "2023-03-19T04:38:31.007Z"
      },
      {
        "duration": 34,
        "start_time": "2023-03-19T04:38:31.032Z"
      },
      {
        "duration": 31,
        "start_time": "2023-03-19T04:38:31.069Z"
      },
      {
        "duration": 400,
        "start_time": "2023-03-19T04:38:31.102Z"
      },
      {
        "duration": 3783,
        "start_time": "2023-03-19T04:38:31.518Z"
      },
      {
        "duration": 15,
        "start_time": "2023-03-19T04:38:35.303Z"
      },
      {
        "duration": 26657,
        "start_time": "2023-03-19T04:38:35.320Z"
      },
      {
        "duration": 14,
        "start_time": "2023-03-19T04:39:01.988Z"
      },
      {
        "duration": 2815,
        "start_time": "2023-03-19T04:39:02.004Z"
      },
      {
        "duration": 855020,
        "start_time": "2023-03-19T04:39:04.821Z"
      },
      {
        "duration": 34,
        "start_time": "2023-03-19T04:53:19.873Z"
      },
      {
        "duration": 1996,
        "start_time": "2023-03-19T06:21:46.235Z"
      },
      {
        "duration": 123,
        "start_time": "2023-03-19T06:21:48.234Z"
      },
      {
        "duration": 43,
        "start_time": "2023-03-19T06:21:48.359Z"
      },
      {
        "duration": 4,
        "start_time": "2023-03-19T06:21:48.405Z"
      },
      {
        "duration": 323,
        "start_time": "2023-03-19T06:21:48.411Z"
      },
      {
        "duration": 380,
        "start_time": "2023-03-19T06:21:48.736Z"
      },
      {
        "duration": 334,
        "start_time": "2023-03-19T06:21:49.119Z"
      },
      {
        "duration": 168,
        "start_time": "2023-03-19T06:21:49.455Z"
      },
      {
        "duration": 329,
        "start_time": "2023-03-19T06:21:49.625Z"
      },
      {
        "duration": 37,
        "start_time": "2023-03-19T06:21:49.957Z"
      },
      {
        "duration": 33,
        "start_time": "2023-03-19T06:21:49.996Z"
      },
      {
        "duration": 22,
        "start_time": "2023-03-19T06:21:50.033Z"
      },
      {
        "duration": 20,
        "start_time": "2023-03-19T06:21:50.057Z"
      },
      {
        "duration": 18,
        "start_time": "2023-03-19T06:21:50.079Z"
      },
      {
        "duration": 3,
        "start_time": "2023-03-19T06:21:50.111Z"
      },
      {
        "duration": 2,
        "start_time": "2023-03-19T06:21:50.118Z"
      },
      {
        "duration": 366,
        "start_time": "2023-03-19T06:21:50.122Z"
      },
      {
        "duration": 3496,
        "start_time": "2023-03-19T06:21:50.502Z"
      },
      {
        "duration": 4,
        "start_time": "2023-03-19T06:21:54.000Z"
      },
      {
        "duration": 26904,
        "start_time": "2023-03-19T06:21:54.006Z"
      },
      {
        "duration": 5,
        "start_time": "2023-03-19T06:22:20.916Z"
      },
      {
        "duration": 2688,
        "start_time": "2023-03-19T06:22:20.922Z"
      },
      {
        "duration": 814422,
        "start_time": "2023-03-19T06:22:23.611Z"
      },
      {
        "duration": 14,
        "start_time": "2023-03-19T06:35:58.047Z"
      },
      {
        "duration": 3094702,
        "start_time": "2023-03-19T06:35:58.062Z"
      },
      {
        "duration": 0,
        "start_time": "2023-03-19T07:27:32.766Z"
      },
      {
        "duration": 0,
        "start_time": "2023-03-19T07:27:32.766Z"
      },
      {
        "duration": 0,
        "start_time": "2023-03-19T07:27:32.767Z"
      },
      {
        "duration": 3,
        "start_time": "2023-03-19T07:27:34.333Z"
      },
      {
        "duration": 2735646,
        "start_time": "2023-03-19T07:27:34.913Z"
      },
      {
        "duration": 4,
        "start_time": "2023-03-19T09:26:01.608Z"
      },
      {
        "duration": 58,
        "start_time": "2023-03-19T09:26:01.987Z"
      },
      {
        "duration": 36,
        "start_time": "2023-03-19T09:26:02.635Z"
      },
      {
        "duration": 4,
        "start_time": "2023-03-19T09:26:03.412Z"
      },
      {
        "duration": 267,
        "start_time": "2023-03-19T09:26:05.615Z"
      },
      {
        "duration": 300,
        "start_time": "2023-03-19T09:26:06.614Z"
      },
      {
        "duration": 296,
        "start_time": "2023-03-19T09:26:07.815Z"
      },
      {
        "duration": 149,
        "start_time": "2023-03-19T09:26:08.566Z"
      },
      {
        "duration": 219,
        "start_time": "2023-03-19T09:26:09.270Z"
      },
      {
        "duration": 16,
        "start_time": "2023-03-19T09:26:23.811Z"
      },
      {
        "duration": 23,
        "start_time": "2023-03-19T09:26:39.011Z"
      },
      {
        "duration": 13,
        "start_time": "2023-03-19T09:26:39.770Z"
      },
      {
        "duration": 6,
        "start_time": "2023-03-19T09:26:41.914Z"
      },
      {
        "duration": 3,
        "start_time": "2023-03-19T09:26:42.325Z"
      },
      {
        "duration": 14,
        "start_time": "2023-03-19T09:26:44.272Z"
      },
      {
        "duration": 5,
        "start_time": "2023-03-19T09:26:44.971Z"
      },
      {
        "duration": 266,
        "start_time": "2023-03-19T09:29:00.024Z"
      },
      {
        "duration": 8,
        "start_time": "2023-03-19T09:30:02.768Z"
      },
      {
        "duration": 6,
        "start_time": "2023-03-19T09:30:24.672Z"
      },
      {
        "duration": 20922,
        "start_time": "2023-03-19T09:30:27.372Z"
      },
      {
        "duration": 4,
        "start_time": "2023-03-19T09:31:20.231Z"
      },
      {
        "duration": 3110,
        "start_time": "2023-03-19T09:31:25.869Z"
      },
      {
        "duration": 3,
        "start_time": "2023-03-19T09:31:41.702Z"
      },
      {
        "duration": 9,
        "start_time": "2023-03-19T09:31:47.167Z"
      },
      {
        "duration": 8,
        "start_time": "2023-03-19T09:31:55.578Z"
      },
      {
        "duration": 4454385,
        "start_time": "2023-03-19T09:31:56.670Z"
      },
      {
        "duration": 4,
        "start_time": "2023-03-19T11:41:55.483Z"
      },
      {
        "duration": 276417,
        "start_time": "2023-03-19T11:42:02.524Z"
      },
      {
        "duration": 21,
        "start_time": "2023-03-19T11:47:25.494Z"
      },
      {
        "duration": 5,
        "start_time": "2023-03-19T11:51:53.570Z"
      },
      {
        "duration": 3,
        "start_time": "2023-03-19T11:51:54.687Z"
      },
      {
        "duration": 322,
        "start_time": "2023-03-19T11:51:59.566Z"
      },
      {
        "duration": 1866,
        "start_time": "2023-03-20T11:34:12.859Z"
      },
      {
        "duration": 116,
        "start_time": "2023-03-20T11:34:14.728Z"
      },
      {
        "duration": 23,
        "start_time": "2023-03-20T11:34:14.847Z"
      },
      {
        "duration": 5,
        "start_time": "2023-03-20T11:34:15.001Z"
      },
      {
        "duration": 252,
        "start_time": "2023-03-20T11:34:18.444Z"
      },
      {
        "duration": 264,
        "start_time": "2023-03-20T11:34:19.847Z"
      },
      {
        "duration": 358,
        "start_time": "2023-03-20T11:34:21.261Z"
      },
      {
        "duration": 162,
        "start_time": "2023-03-20T11:34:21.902Z"
      },
      {
        "duration": 234,
        "start_time": "2023-03-20T11:34:22.328Z"
      },
      {
        "duration": 23,
        "start_time": "2023-03-20T11:34:25.060Z"
      },
      {
        "duration": 28,
        "start_time": "2023-03-20T11:34:26.828Z"
      },
      {
        "duration": 9,
        "start_time": "2023-03-20T11:34:27.780Z"
      },
      {
        "duration": 7,
        "start_time": "2023-03-20T11:34:28.421Z"
      },
      {
        "duration": 5,
        "start_time": "2023-03-20T11:34:29.906Z"
      },
      {
        "duration": 4,
        "start_time": "2023-03-20T11:34:30.798Z"
      },
      {
        "duration": 4,
        "start_time": "2023-03-20T11:34:31.548Z"
      },
      {
        "duration": 183,
        "start_time": "2023-03-20T11:34:33.808Z"
      },
      {
        "duration": 5,
        "start_time": "2023-03-20T11:45:39.541Z"
      },
      {
        "duration": 58,
        "start_time": "2023-03-20T11:45:39.801Z"
      },
      {
        "duration": 24,
        "start_time": "2023-03-20T11:45:39.998Z"
      },
      {
        "duration": 5,
        "start_time": "2023-03-20T11:45:40.216Z"
      },
      {
        "duration": 249,
        "start_time": "2023-03-20T11:45:40.999Z"
      },
      {
        "duration": 273,
        "start_time": "2023-03-20T11:45:42.073Z"
      },
      {
        "duration": 247,
        "start_time": "2023-03-20T11:45:42.800Z"
      },
      {
        "duration": 303,
        "start_time": "2023-03-20T11:45:43.049Z"
      },
      {
        "duration": 264,
        "start_time": "2023-03-20T11:45:43.354Z"
      },
      {
        "duration": 20,
        "start_time": "2023-03-20T11:45:45.125Z"
      },
      {
        "duration": 30,
        "start_time": "2023-03-20T11:45:46.253Z"
      },
      {
        "duration": 9,
        "start_time": "2023-03-20T11:45:46.696Z"
      },
      {
        "duration": 6,
        "start_time": "2023-03-20T11:45:47.166Z"
      },
      {
        "duration": 3,
        "start_time": "2023-03-20T11:45:47.570Z"
      },
      {
        "duration": 3,
        "start_time": "2023-03-20T11:45:47.975Z"
      },
      {
        "duration": 3,
        "start_time": "2023-03-20T11:45:48.474Z"
      },
      {
        "duration": 257,
        "start_time": "2023-03-20T11:45:50.226Z"
      },
      {
        "duration": 3,
        "start_time": "2023-03-20T11:45:52.796Z"
      },
      {
        "duration": 98,
        "start_time": "2023-03-20T11:45:53.712Z"
      },
      {
        "duration": 3,
        "start_time": "2023-03-20T11:49:58.999Z"
      },
      {
        "duration": 112,
        "start_time": "2023-03-20T11:50:00.504Z"
      },
      {
        "duration": 11,
        "start_time": "2023-03-20T11:50:36.626Z"
      },
      {
        "duration": 4,
        "start_time": "2023-03-20T11:50:40.824Z"
      },
      {
        "duration": 4,
        "start_time": "2023-03-20T11:50:41.101Z"
      },
      {
        "duration": 70022,
        "start_time": "2023-03-20T11:50:42.096Z"
      },
      {
        "duration": 0,
        "start_time": "2023-03-20T11:51:52.120Z"
      },
      {
        "duration": 53,
        "start_time": "2023-03-20T11:51:53.545Z"
      },
      {
        "duration": 3,
        "start_time": "2023-03-20T11:53:24.927Z"
      },
      {
        "duration": 206481,
        "start_time": "2023-03-20T11:54:52.554Z"
      },
      {
        "duration": 10,
        "start_time": "2023-03-20T11:58:29.319Z"
      },
      {
        "duration": 12,
        "start_time": "2023-03-20T12:02:03.672Z"
      },
      {
        "duration": 11,
        "start_time": "2023-03-20T12:02:09.203Z"
      },
      {
        "duration": 4,
        "start_time": "2023-03-20T12:03:30.611Z"
      },
      {
        "duration": 4,
        "start_time": "2023-03-20T12:05:37.400Z"
      },
      {
        "duration": 15,
        "start_time": "2023-03-20T12:06:00.239Z"
      },
      {
        "duration": 5,
        "start_time": "2023-03-20T12:06:12.155Z"
      },
      {
        "duration": 4,
        "start_time": "2023-03-20T12:06:46.003Z"
      },
      {
        "duration": 3,
        "start_time": "2023-03-20T12:06:59.613Z"
      },
      {
        "duration": 1245483,
        "start_time": "2023-03-20T12:09:09.027Z"
      },
      {
        "duration": 5007587,
        "start_time": "2023-03-20T12:30:00.340Z"
      },
      {
        "duration": 0,
        "start_time": "2023-03-20T13:53:27.931Z"
      },
      {
        "duration": 0,
        "start_time": "2023-03-20T13:53:27.933Z"
      },
      {
        "duration": 1821,
        "start_time": "2023-03-20T15:20:01.914Z"
      },
      {
        "duration": 363,
        "start_time": "2023-03-20T15:20:03.737Z"
      },
      {
        "duration": 21,
        "start_time": "2023-03-20T15:20:04.102Z"
      },
      {
        "duration": 6,
        "start_time": "2023-03-20T15:20:04.124Z"
      },
      {
        "duration": 243,
        "start_time": "2023-03-20T15:20:04.132Z"
      },
      {
        "duration": 251,
        "start_time": "2023-03-20T15:20:04.376Z"
      },
      {
        "duration": 305,
        "start_time": "2023-03-20T15:20:04.629Z"
      },
      {
        "duration": 230,
        "start_time": "2023-03-20T15:20:04.936Z"
      },
      {
        "duration": 272,
        "start_time": "2023-03-20T15:20:05.169Z"
      },
      {
        "duration": 20,
        "start_time": "2023-03-20T15:20:05.444Z"
      },
      {
        "duration": 24,
        "start_time": "2023-03-20T15:20:05.466Z"
      },
      {
        "duration": 7,
        "start_time": "2023-03-20T15:20:05.492Z"
      },
      {
        "duration": 6,
        "start_time": "2023-03-20T15:20:05.501Z"
      },
      {
        "duration": 33,
        "start_time": "2023-03-20T15:20:05.509Z"
      },
      {
        "duration": 5,
        "start_time": "2023-03-20T15:20:05.544Z"
      },
      {
        "duration": 6,
        "start_time": "2023-03-20T15:20:05.550Z"
      },
      {
        "duration": 294,
        "start_time": "2023-03-20T15:20:05.557Z"
      },
      {
        "duration": 88,
        "start_time": "2023-03-20T15:20:05.853Z"
      },
      {
        "duration": 219207,
        "start_time": "2023-03-20T15:20:05.944Z"
      },
      {
        "duration": 5,
        "start_time": "2023-03-20T15:23:45.154Z"
      },
      {
        "duration": 7,
        "start_time": "2023-03-20T15:23:45.160Z"
      },
      {
        "duration": 6,
        "start_time": "2023-03-20T15:23:45.169Z"
      },
      {
        "duration": 1829989,
        "start_time": "2023-03-20T15:23:45.177Z"
      },
      {
        "duration": 74,
        "start_time": "2023-03-20T15:54:15.167Z"
      },
      {
        "duration": 4,
        "start_time": "2023-03-20T15:54:15.244Z"
      },
      {
        "duration": 151,
        "start_time": "2023-03-20T15:54:15.250Z"
      },
      {
        "duration": 27,
        "start_time": "2023-03-20T15:55:28.622Z"
      },
      {
        "duration": 1705,
        "start_time": "2023-03-21T14:16:02.460Z"
      },
      {
        "duration": 110,
        "start_time": "2023-03-21T14:16:04.167Z"
      },
      {
        "duration": 27,
        "start_time": "2023-03-21T14:16:04.279Z"
      },
      {
        "duration": 5,
        "start_time": "2023-03-21T14:16:04.308Z"
      },
      {
        "duration": 267,
        "start_time": "2023-03-21T14:16:05.982Z"
      },
      {
        "duration": 242,
        "start_time": "2023-03-21T14:16:06.857Z"
      },
      {
        "duration": 319,
        "start_time": "2023-03-21T14:16:07.688Z"
      },
      {
        "duration": 150,
        "start_time": "2023-03-21T14:16:08.009Z"
      },
      {
        "duration": 221,
        "start_time": "2023-03-21T14:16:08.277Z"
      },
      {
        "duration": 19,
        "start_time": "2023-03-21T14:16:11.475Z"
      },
      {
        "duration": 23,
        "start_time": "2023-03-21T14:16:13.713Z"
      },
      {
        "duration": 8,
        "start_time": "2023-03-21T14:16:14.330Z"
      },
      {
        "duration": 5,
        "start_time": "2023-03-21T14:16:14.729Z"
      },
      {
        "duration": 4,
        "start_time": "2023-03-21T14:16:15.427Z"
      },
      {
        "duration": 2,
        "start_time": "2023-03-21T14:16:16.887Z"
      },
      {
        "duration": 3,
        "start_time": "2023-03-21T14:16:17.454Z"
      },
      {
        "duration": 603,
        "start_time": "2023-03-21T14:17:54.375Z"
      },
      {
        "duration": 121,
        "start_time": "2023-03-21T14:18:15.526Z"
      },
      {
        "duration": 2,
        "start_time": "2023-03-21T14:18:19.844Z"
      },
      {
        "duration": 261892,
        "start_time": "2023-03-21T14:18:20.129Z"
      },
      {
        "duration": 3,
        "start_time": "2023-03-21T14:22:42.023Z"
      },
      {
        "duration": 6,
        "start_time": "2023-03-21T14:22:42.028Z"
      },
      {
        "duration": 3,
        "start_time": "2023-03-21T14:23:16.325Z"
      },
      {
        "duration": 113459,
        "start_time": "2023-03-21T14:23:16.526Z"
      },
      {
        "duration": 4,
        "start_time": "2023-03-21T14:25:09.987Z"
      },
      {
        "duration": 8,
        "start_time": "2023-03-21T14:25:09.992Z"
      },
      {
        "duration": 52,
        "start_time": "2023-03-21T14:25:10.002Z"
      }
    ],
    "kernelspec": {
      "display_name": "Python 3 (ipykernel)",
      "language": "python",
      "name": "python3"
    },
    "language_info": {
      "codemirror_mode": {
        "name": "ipython",
        "version": 3
      },
      "file_extension": ".py",
      "mimetype": "text/x-python",
      "name": "python",
      "nbconvert_exporter": "python",
      "pygments_lexer": "ipython3",
      "version": "3.9.5"
    },
    "toc": {
      "base_numbering": 1,
      "nav_menu": {},
      "number_sections": true,
      "sideBar": true,
      "skip_h1_title": true,
      "title_cell": "Содержание",
      "title_sidebar": "Contents",
      "toc_cell": true,
      "toc_position": {
        "height": "calc(100% - 180px)",
        "left": "10px",
        "top": "150px",
        "width": "165px"
      },
      "toc_section_display": true,
      "toc_window_display": true
    },
    "colab": {
      "provenance": []
    }
  },
  "nbformat": 4,
  "nbformat_minor": 0
}